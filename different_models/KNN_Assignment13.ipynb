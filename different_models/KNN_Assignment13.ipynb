{
 "cells": [
  {
   "cell_type": "code",
   "execution_count": 1,
   "metadata": {
    "id": "JolSMtbOfmc9"
   },
   "outputs": [],
   "source": [
    "#Social_Networks_Ads.csv"
   ]
  },
  {
   "cell_type": "markdown",
   "metadata": {
    "id": "h_3tQC1Kf0ut"
   },
   "source": [
    "**Importing the libraries**"
   ]
  },
  {
   "cell_type": "code",
   "execution_count": 2,
   "metadata": {
    "id": "EObl2Z6IfyG4"
   },
   "outputs": [
    {
     "name": "stderr",
     "output_type": "stream"
    }
   ],
   "source": [
    "import pandas as pd\n",
    "import numpy as np\n",
    "import matplotlib.pyplot as plt"
   ]
  },
  {
   "cell_type": "markdown",
   "metadata": {
    "id": "yxzr0NOWf73l"
   },
   "source": [
    "**Importing the dataset**"
   ]
  },
  {
   "cell_type": "code",
   "execution_count": 3,
   "metadata": {
    "id": "nN9xC2r6fyMZ"
   },
   "outputs": [],
   "source": [
    "df = pd.read_csv('Social_Network_Ads.csv')\n",
    "df = df.iloc[:, 2:]"
   ]
  },
  {
   "cell_type": "code",
   "execution_count": 4,
   "metadata": {},
   "outputs": [
    {
     "data": {
      "text/html": [
       "<div>\n",
       "<style scoped>\n",
       "    .dataframe tbody tr th:only-of-type {\n",
       "        vertical-align: middle;\n",
       "    }\n",
       "\n",
       "    .dataframe tbody tr th {\n",
       "        vertical-align: top;\n",
       "    }\n",
       "\n",
       "    .dataframe thead th {\n",
       "        text-align: right;\n",
       "    }\n",
       "</style>\n",
       "<table border=\"1\" class=\"dataframe\">\n",
       "  <thead>\n",
       "    <tr style=\"text-align: right;\">\n",
       "      <th></th>\n",
       "      <th>Age</th>\n",
       "      <th>EstimatedSalary</th>\n",
       "      <th>Purchased</th>\n",
       "    </tr>\n",
       "  </thead>\n",
       "  <tbody>\n",
       "    <tr>\n",
       "      <th>0</th>\n",
       "      <td>19</td>\n",
       "      <td>19000</td>\n",
       "      <td>0</td>\n",
       "    </tr>\n",
       "    <tr>\n",
       "      <th>1</th>\n",
       "      <td>35</td>\n",
       "      <td>20000</td>\n",
       "      <td>0</td>\n",
       "    </tr>\n",
       "    <tr>\n",
       "      <th>2</th>\n",
       "      <td>26</td>\n",
       "      <td>43000</td>\n",
       "      <td>0</td>\n",
       "    </tr>\n",
       "    <tr>\n",
       "      <th>3</th>\n",
       "      <td>27</td>\n",
       "      <td>57000</td>\n",
       "      <td>0</td>\n",
       "    </tr>\n",
       "    <tr>\n",
       "      <th>4</th>\n",
       "      <td>19</td>\n",
       "      <td>76000</td>\n",
       "      <td>0</td>\n",
       "    </tr>\n",
       "  </tbody>\n",
       "</table>\n",
       "</div>"
      ],
      "text/plain": [
       "   Age  EstimatedSalary  Purchased\n",
       "0   19            19000          0\n",
       "1   35            20000          0\n",
       "2   26            43000          0\n",
       "3   27            57000          0\n",
       "4   19            76000          0"
      ]
     },
     "execution_count": 4,
     "metadata": {},
     "output_type": "execute_result"
    }
   ],
   "source": [
    "df.head()"
   ]
  },
  {
   "cell_type": "code",
   "execution_count": 5,
   "metadata": {},
   "outputs": [
    {
     "data": {
      "text/plain": [
       "array([0, 1], dtype=int64)"
      ]
     },
     "execution_count": 5,
     "metadata": {},
     "output_type": "execute_result"
    }
   ],
   "source": [
    "df['Purchased'].unique()"
   ]
  },
  {
   "cell_type": "code",
   "execution_count": 6,
   "metadata": {},
   "outputs": [
    {
     "data": {
      "text/plain": [
       "(400, 3)"
      ]
     },
     "execution_count": 6,
     "metadata": {},
     "output_type": "execute_result"
    }
   ],
   "source": [
    "df.shape"
   ]
  },
  {
   "cell_type": "code",
   "execution_count": 7,
   "metadata": {},
   "outputs": [
    {
     "data": {
      "text/plain": [
       "Age                0\n",
       "EstimatedSalary    0\n",
       "Purchased          0\n",
       "dtype: int64"
      ]
     },
     "execution_count": 7,
     "metadata": {},
     "output_type": "execute_result"
    }
   ],
   "source": [
    "df.isnull().sum()"
   ]
  },
  {
   "cell_type": "code",
   "execution_count": 8,
   "metadata": {},
   "outputs": [],
   "source": [
    "df.drop_duplicates(inplace=True)"
   ]
  },
  {
   "cell_type": "code",
   "execution_count": 9,
   "metadata": {},
   "outputs": [
    {
     "data": {
      "text/plain": [
       "(367, 3)"
      ]
     },
     "execution_count": 9,
     "metadata": {},
     "output_type": "execute_result"
    }
   ],
   "source": [
    "df.shape"
   ]
  },
  {
   "cell_type": "code",
   "execution_count": 10,
   "metadata": {},
   "outputs": [
    {
     "data": {
      "text/html": [
       "<div>\n",
       "<style scoped>\n",
       "    .dataframe tbody tr th:only-of-type {\n",
       "        vertical-align: middle;\n",
       "    }\n",
       "\n",
       "    .dataframe tbody tr th {\n",
       "        vertical-align: top;\n",
       "    }\n",
       "\n",
       "    .dataframe thead th {\n",
       "        text-align: right;\n",
       "    }\n",
       "</style>\n",
       "<table border=\"1\" class=\"dataframe\">\n",
       "  <thead>\n",
       "    <tr style=\"text-align: right;\">\n",
       "      <th></th>\n",
       "      <th>Age</th>\n",
       "      <th>EstimatedSalary</th>\n",
       "      <th>Purchased</th>\n",
       "    </tr>\n",
       "  </thead>\n",
       "  <tbody>\n",
       "    <tr>\n",
       "      <th>count</th>\n",
       "      <td>367.000000</td>\n",
       "      <td>367.000000</td>\n",
       "      <td>367.000000</td>\n",
       "    </tr>\n",
       "    <tr>\n",
       "      <th>mean</th>\n",
       "      <td>37.722071</td>\n",
       "      <td>70719.346049</td>\n",
       "      <td>0.376022</td>\n",
       "    </tr>\n",
       "    <tr>\n",
       "      <th>std</th>\n",
       "      <td>10.681383</td>\n",
       "      <td>34772.173908</td>\n",
       "      <td>0.485047</td>\n",
       "    </tr>\n",
       "    <tr>\n",
       "      <th>min</th>\n",
       "      <td>18.000000</td>\n",
       "      <td>15000.000000</td>\n",
       "      <td>0.000000</td>\n",
       "    </tr>\n",
       "    <tr>\n",
       "      <th>25%</th>\n",
       "      <td>29.500000</td>\n",
       "      <td>43000.000000</td>\n",
       "      <td>0.000000</td>\n",
       "    </tr>\n",
       "    <tr>\n",
       "      <th>50%</th>\n",
       "      <td>37.000000</td>\n",
       "      <td>71000.000000</td>\n",
       "      <td>0.000000</td>\n",
       "    </tr>\n",
       "    <tr>\n",
       "      <th>75%</th>\n",
       "      <td>46.000000</td>\n",
       "      <td>89000.000000</td>\n",
       "      <td>1.000000</td>\n",
       "    </tr>\n",
       "    <tr>\n",
       "      <th>max</th>\n",
       "      <td>60.000000</td>\n",
       "      <td>150000.000000</td>\n",
       "      <td>1.000000</td>\n",
       "    </tr>\n",
       "  </tbody>\n",
       "</table>\n",
       "</div>"
      ],
      "text/plain": [
       "              Age  EstimatedSalary   Purchased\n",
       "count  367.000000       367.000000  367.000000\n",
       "mean    37.722071     70719.346049    0.376022\n",
       "std     10.681383     34772.173908    0.485047\n",
       "min     18.000000     15000.000000    0.000000\n",
       "25%     29.500000     43000.000000    0.000000\n",
       "50%     37.000000     71000.000000    0.000000\n",
       "75%     46.000000     89000.000000    1.000000\n",
       "max     60.000000    150000.000000    1.000000"
      ]
     },
     "execution_count": 10,
     "metadata": {},
     "output_type": "execute_result"
    }
   ],
   "source": [
    "df.describe()"
   ]
  },
  {
   "cell_type": "markdown",
   "metadata": {},
   "source": [
    "### Outlier"
   ]
  },
  {
   "cell_type": "code",
   "execution_count": 11,
   "metadata": {},
   "outputs": [
    {
     "name": "stdout",
     "output_type": "stream",
     "text": [
      "4.75\n",
      "70.75\n"
     ]
    }
   ],
   "source": [
    "# Age Column\n",
    "iqr = df['Age'].quantile(0.75) - df['Age'].quantile(0.25)\n",
    "upper_threshold = df['Age'].quantile(0.75) + (1.5 * iqr)\n",
    "lower_threshold = df['Age'].quantile(0.25) - (1.5 * iqr)\n",
    "print(lower_threshold)\n",
    "print(upper_threshold)"
   ]
  },
  {
   "cell_type": "code",
   "execution_count": 12,
   "metadata": {},
   "outputs": [
    {
     "name": "stdout",
     "output_type": "stream",
     "text": [
      "-26000.0\n",
      "158000.0\n"
     ]
    }
   ],
   "source": [
    "# EstimatedSalary Column\n",
    "iqr = df['EstimatedSalary'].quantile(0.75) - df['EstimatedSalary'].quantile(0.25)\n",
    "upper_threshold = df['EstimatedSalary'].quantile(0.75) + (1.5 * iqr)\n",
    "lower_threshold = df['EstimatedSalary'].quantile(0.25) - (1.5 * iqr)\n",
    "print(lower_threshold)\n",
    "print(upper_threshold)"
   ]
  },
  {
   "cell_type": "markdown",
   "metadata": {},
   "source": [
    "There is no outlier in two columns 'Age' and 'EstimatedSalary'."
   ]
  },
  {
   "cell_type": "markdown",
   "metadata": {},
   "source": [
    "### EDA"
   ]
  },
  {
   "cell_type": "code",
   "execution_count": 13,
   "metadata": {},
   "outputs": [
    {
     "data": {
      "text/html": [
       "<div>\n",
       "<style scoped>\n",
       "    .dataframe tbody tr th:only-of-type {\n",
       "        vertical-align: middle;\n",
       "    }\n",
       "\n",
       "    .dataframe tbody tr th {\n",
       "        vertical-align: top;\n",
       "    }\n",
       "\n",
       "    .dataframe thead th {\n",
       "        text-align: right;\n",
       "    }\n",
       "</style>\n",
       "<table border=\"1\" class=\"dataframe\">\n",
       "  <thead>\n",
       "    <tr style=\"text-align: right;\">\n",
       "      <th></th>\n",
       "      <th>Age</th>\n",
       "      <th>EstimatedSalary</th>\n",
       "      <th>Purchased</th>\n",
       "    </tr>\n",
       "  </thead>\n",
       "  <tbody>\n",
       "    <tr>\n",
       "      <th>Age</th>\n",
       "      <td>1.000000</td>\n",
       "      <td>0.167771</td>\n",
       "      <td>0.626164</td>\n",
       "    </tr>\n",
       "    <tr>\n",
       "      <th>EstimatedSalary</th>\n",
       "      <td>0.167771</td>\n",
       "      <td>1.000000</td>\n",
       "      <td>0.375624</td>\n",
       "    </tr>\n",
       "    <tr>\n",
       "      <th>Purchased</th>\n",
       "      <td>0.626164</td>\n",
       "      <td>0.375624</td>\n",
       "      <td>1.000000</td>\n",
       "    </tr>\n",
       "  </tbody>\n",
       "</table>\n",
       "</div>"
      ],
      "text/plain": [
       "                      Age  EstimatedSalary  Purchased\n",
       "Age              1.000000         0.167771   0.626164\n",
       "EstimatedSalary  0.167771         1.000000   0.375624\n",
       "Purchased        0.626164         0.375624   1.000000"
      ]
     },
     "execution_count": 13,
     "metadata": {},
     "output_type": "execute_result"
    }
   ],
   "source": [
    "df.corr()"
   ]
  },
  {
   "cell_type": "code",
   "execution_count": 14,
   "metadata": {},
   "outputs": [
    {
     "data": {
      "text/plain": [
       "Text(0, 0.5, 'EstimatedSalary')"
      ]
     },
     "execution_count": 14,
     "metadata": {},
     "output_type": "execute_result"
    },
    {
     "data": {
      "image/png": "[encoded data removed]",
      "text/plain": [
       "<Figure size 432x288 with 1 Axes>"
      ]
     },
     "metadata": {
      "needs_background": "light"
     },
     "output_type": "display_data"
    }
   ],
   "source": [
    "plt.scatter(df['Age'], df['EstimatedSalary'])\n",
    "plt.title('Age vs EstimateSalary')\n",
    "plt.xlabel('Age')\n",
    "plt.ylabel('EstimatedSalary')"
   ]
  },
  {
   "cell_type": "markdown",
   "metadata": {},
   "source": [
    "There is no Linear relationship between 'Age' and 'EstimatedSalary'. So, we have to use both the columns for the model."
   ]
  },
  {
   "cell_type": "code",
   "execution_count": 15,
   "metadata": {
    "id": "Z9gpSZOVfyPX"
   },
   "outputs": [],
   "source": [
    "# Seperating as Features and Target\n",
    "x = df.iloc[:, :-1].values\n",
    "y = df.iloc[:, -1].values"
   ]
  },
  {
   "cell_type": "markdown",
   "metadata": {
    "id": "_lrDXgjIgGJ3"
   },
   "source": [
    "**Splitting the dataset into the Training set and Test set**"
   ]
  },
  {
   "cell_type": "code",
   "execution_count": 16,
   "metadata": {
    "id": "z2QWVTZUfyUB"
   },
   "outputs": [],
   "source": [
    "from sklearn.model_selection import train_test_split\n",
    "x_train, x_test, y_train, y_test = train_test_split(x, y, test_size = 0.25)"
   ]
  },
  {
   "cell_type": "markdown",
   "metadata": {
    "id": "XmzkAVfggNrD"
   },
   "source": [
    "**Feature Scaling**"
   ]
  },
  {
   "cell_type": "code",
   "execution_count": 17,
   "metadata": {
    "id": "UZUJ4Xn4fyW6",
    "scrolled": true
   },
   "outputs": [
    {
     "data": {
      "text/plain": [
       "array([[-1.81988405,  0.36832348],\n",
       "       [ 1.52319597, -0.87466316],\n",
       "       [-0.91634891,  0.51285681],\n",
       "       [-0.28387431, -0.12308984],\n",
       "       [-0.01281377, -0.29652984],\n",
       "       [ 0.16789326,  0.25269682],\n",
       "       [ 0.16789326, -0.35434317],\n",
       "       [-0.28387431,  0.05035016],\n",
       "       [-1.72953053, -1.25044982],\n",
       "       [-0.28387431, -0.73012983],\n",
       "       [-0.8259954 ,  0.31051015],\n",
       "       [ 1.70390299, -0.26762317],\n",
       "       [ 0.34860028,  0.59957681],\n",
       "       [ 0.61966083, -1.07700982],\n",
       "       [-0.10316728,  0.16597682],\n",
       "       [-0.73564188,  0.31051015],\n",
       "       [-0.10316728,  1.95819012],\n",
       "       [-0.01281377, -0.12308984],\n",
       "       [-0.46458134, -1.10591649],\n",
       "       [ 0.34860028, -0.44106317],\n",
       "       [-0.10316728,  0.22379015],\n",
       "       [ 1.16178191,  2.21835011],\n",
       "       [ 0.71001434,  0.77301681],\n",
       "       [-0.28387431, -0.4121565 ],\n",
       "       [-0.01281377, -0.2387165 ],\n",
       "       [ 0.07753974,  0.22379015],\n",
       "       [-0.46458134, -1.19263648],\n",
       "       [-1.63917702,  0.36832348],\n",
       "       [ 1.70390299, -1.04810315],\n",
       "       [ 0.98107488, -0.12308984],\n",
       "       [ 0.34860028,  1.00427014],\n",
       "       [ 0.25824677,  0.31051015],\n",
       "       [-0.1935208 ,  2.16053678],\n",
       "       [ 1.43284245,  1.1198968 ],\n",
       "       [-1.00670242,  0.54176348],\n",
       "       [-1.09705594,  0.33941682],\n",
       "       [-1.09705594,  0.48395015],\n",
       "       [ 0.98107488,  2.07381678],\n",
       "       [ 0.71001434,  0.13707015],\n",
       "       [-0.55493485, -1.48170314],\n",
       "       [-0.10316728,  0.05035016],\n",
       "       [-0.73564188,  1.35115013],\n",
       "       [-0.64528837,  1.40896346],\n",
       "       [ 0.07753974,  1.87147012],\n",
       "       [ 0.52930731,  2.01600345],\n",
       "       [-1.36811648, -1.19263648],\n",
       "       [-0.73564188,  0.28160349],\n",
       "       [-0.91634891,  1.55349679],\n",
       "       [-1.09705594, -1.51060981],\n",
       "       [-0.28387431,  0.54176348],\n",
       "       [ 0.25824677, -0.52778316],\n",
       "       [ 0.16789326,  2.10272345],\n",
       "       [ 0.07753974,  0.16597682],\n",
       "       [-0.91634891, -0.73012983],\n",
       "       [-0.1935208 , -0.55668983],\n",
       "       [-0.10316728,  2.16053678],\n",
       "       [-0.37422783,  1.32224346],\n",
       "       [-0.10316728, -0.4121565 ],\n",
       "       [-1.27776297,  0.57067015],\n",
       "       [-0.28387431,  0.62848348],\n",
       "       [-1.09705594, -0.75903649],\n",
       "       [ 0.4389538 ,  1.84256345],\n",
       "       [-0.10316728,  0.68629681],\n",
       "       [-0.73564188, -1.51060981],\n",
       "       [-1.18740945, -1.04810315],\n",
       "       [ 0.16789326,  0.05035016],\n",
       "       [-0.55493485,  1.90037678],\n",
       "       [-1.36811648,  0.36832348],\n",
       "       [ 1.43284245,  0.02144349],\n",
       "       [-0.28387431, -0.46996983],\n",
       "       [-1.72953053,  0.19488349],\n",
       "       [-0.91634891, -0.29652984],\n",
       "       [ 0.61966083, -1.25044982],\n",
       "       [ 0.25824677,  0.07925682],\n",
       "       [ 0.34860028,  0.10816349],\n",
       "       [ 0.25824677,  0.05035016],\n",
       "       [-0.46458134, -0.81684983],\n",
       "       [-1.54882351,  0.07925682],\n",
       "       [ 0.71001434, -0.81684983],\n",
       "       [ 0.89072137,  0.13707015],\n",
       "       [ 0.71001434,  1.3800568 ],\n",
       "       [ 1.25213542, -1.39498315],\n",
       "       [-1.27776297, -0.3254365 ],\n",
       "       [-0.1935208 , -0.4988765 ],\n",
       "       [ 0.89072137,  2.07381678],\n",
       "       [-0.01281377,  1.23552347],\n",
       "       [ 0.89072137, -1.04810315],\n",
       "       [-1.00670242, -1.42388981],\n",
       "       [-1.63917702,  0.48395015],\n",
       "       [-0.1935208 ,  0.85973681],\n",
       "       [-0.73564188,  0.57067015],\n",
       "       [ 1.0714284 , -1.42388981]])"
      ]
     },
     "execution_count": 17,
     "metadata": {},
     "output_type": "execute_result"
    }
   ],
   "source": [
    "from sklearn.preprocessing import StandardScaler\n",
    "sc = StandardScaler()\n",
    "sc.fit_transform(x_train)\n",
    "sc.transform(x_test)"
   ]
  },
  {
   "cell_type": "markdown",
   "metadata": {
    "id": "BWpz-G_KgaB5"
   },
   "source": [
    "**Fitting K-NN to the Training set**"
   ]
  },
  {
   "cell_type": "code",
   "execution_count": 18,
   "metadata": {},
   "outputs": [
    {
     "name": "stdout",
     "output_type": "stream",
     "text": [
      "K = 0----Train Score = 0.9927272727272727----CV Score = 0.7410041407867496\n",
      "K = 1----Train Score = 0.8836363636363637----CV Score = 0.7768622038187256\n",
      "K = 2----Train Score = 0.8654545454545455----CV Score = 0.7963451805843109\n",
      "K = 3----Train Score = 0.8654545454545455----CV Score = 0.8089308718656543\n",
      "K = 4----Train Score = 0.8872727272727273----CV Score = 0.8202392454566368\n",
      "K = 5----Train Score = 0.850909090909091----CV Score = 0.826675868414999\n",
      "K = 6----Train Score = 0.84----CV Score = 0.8358390844260409\n",
      "K = 7----Train Score = 0.8290909090909091----CV Score = 0.823252242926156\n",
      "K = 8----Train Score = 0.8690909090909091----CV Score = 0.8196658615136876\n",
      "K = 9----Train Score = 0.850909090909091----CV Score = 0.8294243156199677\n",
      "K = 10----Train Score = 0.8472727272727273----CV Score = 0.8286507936507936\n",
      "K = 11----Train Score = 0.8363636363636363----CV Score = 0.826909362778928\n",
      "K = 12----Train Score = 0.8290909090909091----CV Score = 0.8215073613986658\n",
      "K = 13----Train Score = 0.8254545454545454----CV Score = 0.8136783988957902\n",
      "K = 14----Train Score = 0.8436363636363636----CV Score = 0.8108224062571889\n",
      "K = 15----Train Score = 0.8363636363636363----CV Score = 0.829228778467909\n",
      "K = 16----Train Score = 0.8436363636363636----CV Score = 0.8326386013342535\n",
      "K = 17----Train Score = 0.8----CV Score = 0.8375166781688522\n",
      "K = 18----Train Score = 0.8----CV Score = 0.8404485852311939\n",
      "K = 19----Train Score = 0.7963636363636364----CV Score = 0.8391350356567747\n"
     ]
    }
   ],
   "source": [
    "# Finding the best K value\n",
    "from sklearn.neighbors import KNeighborsClassifier\n",
    "from sklearn.model_selection import cross_val_score\n",
    "\n",
    "k_range = range(1, 21)\n",
    "train_scores = []\n",
    "k_scores = []\n",
    "\n",
    "for k in k_range:\n",
    "    knn = KNeighborsClassifier(n_neighbors=k)\n",
    "    knn.fit(x_train, y_train)\n",
    "    train_scores.append(knn.score(x_train, y_train))\n",
    "    scores = cross_val_score(knn, x, y, cv=5, scoring='roc_auc')\n",
    "    k_scores.append(scores.mean())\n",
    "for i in range(len(k_range)):\n",
    "    print(f'K = {i}----Train Score = {train_scores[i]}----CV Score = {k_scores[i]}')"
   ]
  },
  {
   "cell_type": "code",
   "execution_count": 19,
   "metadata": {
    "scrolled": true
   },
   "outputs": [
    {
     "data": {
      "text/plain": [
       "Text(0, 0.5, 'Cross-Validated AUROC')"
      ]
     },
     "execution_count": 19,
     "metadata": {},
     "output_type": "execute_result"
    },
    {
     "data": {
      "image/png": "[encoded data removed]",
      "text/plain": [
       "<Figure size 432x288 with 1 Axes>"
      ]
     },
     "metadata": {
      "needs_background": "light"
     },
     "output_type": "display_data"
    }
   ],
   "source": [
    "# ploting\n",
    "plt.plot(k_range, k_scores)\n",
    "plt.grid()\n",
    "plt.xlabel('Value of K for KNN')\n",
    "plt.ylabel('Cross-Validated AUROC')"
   ]
  },
  {
   "cell_type": "markdown",
   "metadata": {},
   "source": [
    "As we can see, the best value of K is 7. After 7, the score decreases due to under fitting."
   ]
  },
  {
   "cell_type": "code",
   "execution_count": 20,
   "metadata": {
    "id": "5Wo68lCqfyc6"
   },
   "outputs": [
    {
     "data": {
      "text/plain": [
       "KNeighborsClassifier(n_neighbors=7)"
      ]
     },
     "execution_count": 20,
     "metadata": {},
     "output_type": "execute_result"
    }
   ],
   "source": [
    "classifier = KNeighborsClassifier(n_neighbors=7)\n",
    "classifier.fit(x_train, y_train)"
   ]
  },
  {
   "cell_type": "markdown",
   "metadata": {
    "id": "GoGxoF-kgmlj"
   },
   "source": [
    "**Predicting the Test set results**"
   ]
  },
  {
   "cell_type": "code",
   "execution_count": 21,
   "metadata": {
    "id": "aEOlRLkefye3"
   },
   "outputs": [
    {
     "name": "stdout",
     "output_type": "stream",
     "text": [
      "[0]\n"
     ]
    }
   ],
   "source": [
    "# Predicting a new result\n",
    "print(classifier.predict(sc.transform([[22, 75520]])))"
   ]
  },
  {
   "cell_type": "code",
   "execution_count": 22,
   "metadata": {},
   "outputs": [
    {
     "name": "stdout",
     "output_type": "stream",
     "text": [
      "[[0 0]\n",
      " [1 1]\n",
      " [0 0]\n",
      " [0 0]\n",
      " [0 0]\n",
      " [0 0]\n",
      " [0 0]\n",
      " [0 0]\n",
      " [0 0]\n",
      " [0 0]\n",
      " [0 0]\n",
      " [0 1]\n",
      " [0 1]\n",
      " [0 1]\n",
      " [0 0]\n",
      " [0 0]\n",
      " [1 1]\n",
      " [0 0]\n",
      " [0 0]\n",
      " [0 0]\n",
      " [0 0]\n",
      " [1 1]\n",
      " [1 0]\n",
      " [0 0]\n",
      " [0 0]\n",
      " [0 0]\n",
      " [0 0]\n",
      " [0 0]\n",
      " [1 1]\n",
      " [0 0]\n",
      " [1 1]\n",
      " [0 0]\n",
      " [1 1]\n",
      " [1 1]\n",
      " [1 0]\n",
      " [0 0]\n",
      " [0 0]\n",
      " [1 1]\n",
      " [0 0]\n",
      " [0 0]\n",
      " [0 0]\n",
      " [0 0]\n",
      " [1 1]\n",
      " [1 1]\n",
      " [1 1]\n",
      " [0 0]\n",
      " [0 0]\n",
      " [1 1]\n",
      " [0 0]\n",
      " [1 0]\n",
      " [0 0]\n",
      " [1 1]\n",
      " [0 1]\n",
      " [0 0]\n",
      " [0 0]\n",
      " [1 1]\n",
      " [1 0]\n",
      " [0 0]\n",
      " [0 0]\n",
      " [0 1]\n",
      " [0 0]\n",
      " [1 0]\n",
      " [1 1]\n",
      " [0 0]\n",
      " [0 0]\n",
      " [0 1]\n",
      " [1 1]\n",
      " [0 0]\n",
      " [0 1]\n",
      " [0 0]\n",
      " [0 0]\n",
      " [0 0]\n",
      " [0 1]\n",
      " [0 0]\n",
      " [0 1]\n",
      " [0 0]\n",
      " [0 0]\n",
      " [0 0]\n",
      " [0 1]\n",
      " [0 1]\n",
      " [1 1]\n",
      " [0 1]\n",
      " [0 0]\n",
      " [0 0]\n",
      " [1 0]\n",
      " [1 0]\n",
      " [1 1]\n",
      " [0 0]\n",
      " [0 0]\n",
      " [1 1]\n",
      " [0 0]\n",
      " [0 1]]\n"
     ]
    }
   ],
   "source": [
    "# Predicting test set results\n",
    "y_pred = classifier.predict(x_test)\n",
    "print(np.concatenate((y_pred.reshape(len(y_pred),1), y_test.reshape(len(y_test),1)),1))"
   ]
  },
  {
   "cell_type": "markdown",
   "metadata": {
    "id": "cYfKp7MQgwX7"
   },
   "source": [
    "**Making the Confusion Matrix**"
   ]
  },
  {
   "cell_type": "code",
   "execution_count": 23,
   "metadata": {
    "id": "zFhgq3Yufyh5"
   },
   "outputs": [
    {
     "name": "stdout",
     "output_type": "stream",
     "text": [
      "[[53  7]\n",
      " [13 19]]\n"
     ]
    }
   ],
   "source": [
    "from sklearn.metrics import confusion_matrix\n",
    "cm = confusion_matrix(y_test, y_pred)\n",
    "print(cm)"
   ]
  }
 ],
 "metadata": {
  "colab": {
   "name": "KNN Assignment13.ipynb",
   "provenance": []
  },
  "kernelspec": {
   "display_name": "Python 3",
   "language": "python",
   "name": "python3"
  },
  "language_info": {
   "codemirror_mode": {
    "name": "ipython",
    "version": 3
   },
   "file_extension": ".py",
   "mimetype": "text/x-python",
   "name": "python",
   "nbconvert_exporter": "python",
   "pygments_lexer": "ipython3",
   "version": "3.7.3"
  }
 },
 "nbformat": 4,
 "nbformat_minor": 1
}
