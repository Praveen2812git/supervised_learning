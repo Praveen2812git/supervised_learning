{
 "cells": [
  {
   "cell_type": "code",
   "execution_count": 1,
   "metadata": {
    "id": "OTEpzVunhgga"
   },
   "outputs": [],
   "source": [
    "#Social_Network_Ads.csv"
   ]
  },
  {
   "cell_type": "markdown",
   "metadata": {
    "id": "Qa5Bo_A9h3kB"
   },
   "source": [
    "**Import libraries**"
   ]
  },
  {
   "cell_type": "code",
   "execution_count": 2,
   "metadata": {
    "id": "pFIDCPu9h1DO"
   },
   "outputs": [
    {
     "name": "stderr",
     "output_type": "stream",
     "text": [
      "C:\\Users\\Praveen\\Anaconda3\\lib\\site-packages\\pandas\\compat\\_optional.py:138: UserWarning: Pandas requires version '2.7.0' or newer of 'numexpr' (version '2.6.9' currently installed).\n",
      "  warnings.warn(msg, UserWarning)\n"
     ]
    }
   ],
   "source": [
    "import pandas as pd\n",
    "import numpy as np\n",
    "import matplotlib.pyplot as plt"
   ]
  },
  {
   "cell_type": "markdown",
   "metadata": {
    "id": "L9CQXJjkiKRq"
   },
   "source": [
    "**Importing the dataset**"
   ]
  },
  {
   "cell_type": "code",
   "execution_count": 3,
   "metadata": {
    "id": "ZNiJnC7hh1HC"
   },
   "outputs": [],
   "source": [
    "df = pd.read_csv('Social_Network_Ads.csv')\n",
    "df = df.iloc[:, 2:]"
   ]
  },
  {
   "cell_type": "code",
   "execution_count": 4,
   "metadata": {},
   "outputs": [
    {
     "data": {
      "text/html": [
       "<div>\n",
       "<style scoped>\n",
       "    .dataframe tbody tr th:only-of-type {\n",
       "        vertical-align: middle;\n",
       "    }\n",
       "\n",
       "    .dataframe tbody tr th {\n",
       "        vertical-align: top;\n",
       "    }\n",
       "\n",
       "    .dataframe thead th {\n",
       "        text-align: right;\n",
       "    }\n",
       "</style>\n",
       "<table border=\"1\" class=\"dataframe\">\n",
       "  <thead>\n",
       "    <tr style=\"text-align: right;\">\n",
       "      <th></th>\n",
       "      <th>Age</th>\n",
       "      <th>EstimatedSalary</th>\n",
       "      <th>Purchased</th>\n",
       "    </tr>\n",
       "  </thead>\n",
       "  <tbody>\n",
       "    <tr>\n",
       "      <th>0</th>\n",
       "      <td>19</td>\n",
       "      <td>19000</td>\n",
       "      <td>0</td>\n",
       "    </tr>\n",
       "    <tr>\n",
       "      <th>1</th>\n",
       "      <td>35</td>\n",
       "      <td>20000</td>\n",
       "      <td>0</td>\n",
       "    </tr>\n",
       "    <tr>\n",
       "      <th>2</th>\n",
       "      <td>26</td>\n",
       "      <td>43000</td>\n",
       "      <td>0</td>\n",
       "    </tr>\n",
       "    <tr>\n",
       "      <th>3</th>\n",
       "      <td>27</td>\n",
       "      <td>57000</td>\n",
       "      <td>0</td>\n",
       "    </tr>\n",
       "    <tr>\n",
       "      <th>4</th>\n",
       "      <td>19</td>\n",
       "      <td>76000</td>\n",
       "      <td>0</td>\n",
       "    </tr>\n",
       "  </tbody>\n",
       "</table>\n",
       "</div>"
      ],
      "text/plain": [
       "   Age  EstimatedSalary  Purchased\n",
       "0   19            19000          0\n",
       "1   35            20000          0\n",
       "2   26            43000          0\n",
       "3   27            57000          0\n",
       "4   19            76000          0"
      ]
     },
     "execution_count": 4,
     "metadata": {},
     "output_type": "execute_result"
    }
   ],
   "source": [
    "df.head()"
   ]
  },
  {
   "cell_type": "code",
   "execution_count": 5,
   "metadata": {},
   "outputs": [
    {
     "data": {
      "text/plain": [
       "array([0, 1], dtype=int64)"
      ]
     },
     "execution_count": 5,
     "metadata": {},
     "output_type": "execute_result"
    }
   ],
   "source": [
    "df['Purchased'].unique()"
   ]
  },
  {
   "cell_type": "code",
   "execution_count": 6,
   "metadata": {},
   "outputs": [
    {
     "data": {
      "text/plain": [
       "(400, 3)"
      ]
     },
     "execution_count": 6,
     "metadata": {},
     "output_type": "execute_result"
    }
   ],
   "source": [
    "df.shape"
   ]
  },
  {
   "cell_type": "code",
   "execution_count": 7,
   "metadata": {},
   "outputs": [
    {
     "data": {
      "text/plain": [
       "Age                0\n",
       "EstimatedSalary    0\n",
       "Purchased          0\n",
       "dtype: int64"
      ]
     },
     "execution_count": 7,
     "metadata": {},
     "output_type": "execute_result"
    }
   ],
   "source": [
    "df.isnull().sum()"
   ]
  },
  {
   "cell_type": "code",
   "execution_count": 8,
   "metadata": {},
   "outputs": [],
   "source": [
    "df.drop_duplicates(inplace=True)"
   ]
  },
  {
   "cell_type": "code",
   "execution_count": 9,
   "metadata": {},
   "outputs": [
    {
     "data": {
      "text/plain": [
       "(367, 3)"
      ]
     },
     "execution_count": 9,
     "metadata": {},
     "output_type": "execute_result"
    }
   ],
   "source": [
    "df.shape"
   ]
  },
  {
   "cell_type": "code",
   "execution_count": 10,
   "metadata": {},
   "outputs": [
    {
     "data": {
      "text/html": [
       "<div>\n",
       "<style scoped>\n",
       "    .dataframe tbody tr th:only-of-type {\n",
       "        vertical-align: middle;\n",
       "    }\n",
       "\n",
       "    .dataframe tbody tr th {\n",
       "        vertical-align: top;\n",
       "    }\n",
       "\n",
       "    .dataframe thead th {\n",
       "        text-align: right;\n",
       "    }\n",
       "</style>\n",
       "<table border=\"1\" class=\"dataframe\">\n",
       "  <thead>\n",
       "    <tr style=\"text-align: right;\">\n",
       "      <th></th>\n",
       "      <th>Age</th>\n",
       "      <th>EstimatedSalary</th>\n",
       "      <th>Purchased</th>\n",
       "    </tr>\n",
       "  </thead>\n",
       "  <tbody>\n",
       "    <tr>\n",
       "      <th>count</th>\n",
       "      <td>367.000000</td>\n",
       "      <td>367.000000</td>\n",
       "      <td>367.000000</td>\n",
       "    </tr>\n",
       "    <tr>\n",
       "      <th>mean</th>\n",
       "      <td>37.722071</td>\n",
       "      <td>70719.346049</td>\n",
       "      <td>0.376022</td>\n",
       "    </tr>\n",
       "    <tr>\n",
       "      <th>std</th>\n",
       "      <td>10.681383</td>\n",
       "      <td>34772.173908</td>\n",
       "      <td>0.485047</td>\n",
       "    </tr>\n",
       "    <tr>\n",
       "      <th>min</th>\n",
       "      <td>18.000000</td>\n",
       "      <td>15000.000000</td>\n",
       "      <td>0.000000</td>\n",
       "    </tr>\n",
       "    <tr>\n",
       "      <th>25%</th>\n",
       "      <td>29.500000</td>\n",
       "      <td>43000.000000</td>\n",
       "      <td>0.000000</td>\n",
       "    </tr>\n",
       "    <tr>\n",
       "      <th>50%</th>\n",
       "      <td>37.000000</td>\n",
       "      <td>71000.000000</td>\n",
       "      <td>0.000000</td>\n",
       "    </tr>\n",
       "    <tr>\n",
       "      <th>75%</th>\n",
       "      <td>46.000000</td>\n",
       "      <td>89000.000000</td>\n",
       "      <td>1.000000</td>\n",
       "    </tr>\n",
       "    <tr>\n",
       "      <th>max</th>\n",
       "      <td>60.000000</td>\n",
       "      <td>150000.000000</td>\n",
       "      <td>1.000000</td>\n",
       "    </tr>\n",
       "  </tbody>\n",
       "</table>\n",
       "</div>"
      ],
      "text/plain": [
       "              Age  EstimatedSalary   Purchased\n",
       "count  367.000000       367.000000  367.000000\n",
       "mean    37.722071     70719.346049    0.376022\n",
       "std     10.681383     34772.173908    0.485047\n",
       "min     18.000000     15000.000000    0.000000\n",
       "25%     29.500000     43000.000000    0.000000\n",
       "50%     37.000000     71000.000000    0.000000\n",
       "75%     46.000000     89000.000000    1.000000\n",
       "max     60.000000    150000.000000    1.000000"
      ]
     },
     "execution_count": 10,
     "metadata": {},
     "output_type": "execute_result"
    }
   ],
   "source": [
    "df.describe()"
   ]
  },
  {
   "cell_type": "markdown",
   "metadata": {},
   "source": [
    "### Outlier"
   ]
  },
  {
   "cell_type": "code",
   "execution_count": 11,
   "metadata": {},
   "outputs": [
    {
     "name": "stdout",
     "output_type": "stream",
     "text": [
      "4.75\n",
      "70.75\n"
     ]
    }
   ],
   "source": [
    "# Age Column\n",
    "iqr = df['Age'].quantile(0.75) - df['Age'].quantile(0.25)\n",
    "upper_threshold = df['Age'].quantile(0.75) + (1.5 * iqr)\n",
    "lower_threshold = df['Age'].quantile(0.25) - (1.5 * iqr)\n",
    "print(lower_threshold)\n",
    "print(upper_threshold)"
   ]
  },
  {
   "cell_type": "code",
   "execution_count": 12,
   "metadata": {},
   "outputs": [
    {
     "name": "stdout",
     "output_type": "stream",
     "text": [
      "-26000.0\n",
      "158000.0\n"
     ]
    }
   ],
   "source": [
    "# EstimatedSalary Column\n",
    "iqr = df['EstimatedSalary'].quantile(0.75) - df['EstimatedSalary'].quantile(0.25)\n",
    "upper_threshold = df['EstimatedSalary'].quantile(0.75) + (1.5 * iqr)\n",
    "lower_threshold = df['EstimatedSalary'].quantile(0.25) - (1.5 * iqr)\n",
    "print(lower_threshold)\n",
    "print(upper_threshold)"
   ]
  },
  {
   "cell_type": "markdown",
   "metadata": {},
   "source": [
    "There is no outlier in two columns 'Age' and 'EstimatedSalary'."
   ]
  },
  {
   "cell_type": "markdown",
   "metadata": {},
   "source": [
    "### EDA"
   ]
  },
  {
   "cell_type": "code",
   "execution_count": 13,
   "metadata": {},
   "outputs": [
    {
     "data": {
      "text/html": [
       "<div>\n",
       "<style scoped>\n",
       "    .dataframe tbody tr th:only-of-type {\n",
       "        vertical-align: middle;\n",
       "    }\n",
       "\n",
       "    .dataframe tbody tr th {\n",
       "        vertical-align: top;\n",
       "    }\n",
       "\n",
       "    .dataframe thead th {\n",
       "        text-align: right;\n",
       "    }\n",
       "</style>\n",
       "<table border=\"1\" class=\"dataframe\">\n",
       "  <thead>\n",
       "    <tr style=\"text-align: right;\">\n",
       "      <th></th>\n",
       "      <th>Age</th>\n",
       "      <th>EstimatedSalary</th>\n",
       "      <th>Purchased</th>\n",
       "    </tr>\n",
       "  </thead>\n",
       "  <tbody>\n",
       "    <tr>\n",
       "      <th>Age</th>\n",
       "      <td>1.000000</td>\n",
       "      <td>0.167771</td>\n",
       "      <td>0.626164</td>\n",
       "    </tr>\n",
       "    <tr>\n",
       "      <th>EstimatedSalary</th>\n",
       "      <td>0.167771</td>\n",
       "      <td>1.000000</td>\n",
       "      <td>0.375624</td>\n",
       "    </tr>\n",
       "    <tr>\n",
       "      <th>Purchased</th>\n",
       "      <td>0.626164</td>\n",
       "      <td>0.375624</td>\n",
       "      <td>1.000000</td>\n",
       "    </tr>\n",
       "  </tbody>\n",
       "</table>\n",
       "</div>"
      ],
      "text/plain": [
       "                      Age  EstimatedSalary  Purchased\n",
       "Age              1.000000         0.167771   0.626164\n",
       "EstimatedSalary  0.167771         1.000000   0.375624\n",
       "Purchased        0.626164         0.375624   1.000000"
      ]
     },
     "execution_count": 13,
     "metadata": {},
     "output_type": "execute_result"
    }
   ],
   "source": [
    "df.corr()"
   ]
  },
  {
   "cell_type": "code",
   "execution_count": 14,
   "metadata": {},
   "outputs": [
    {
     "data": {
      "text/plain": [
       "Text(0, 0.5, 'EstimatedSalary')"
      ]
     },
     "execution_count": 14,
     "metadata": {},
     "output_type": "execute_result"
    },
    {
     "data": {
      "image/png": "[encoded data removed]",
      "text/plain": [
       "<Figure size 432x288 with 1 Axes>"
      ]
     },
     "metadata": {
      "needs_background": "light"
     },
     "output_type": "display_data"
    }
   ],
   "source": [
    "plt.scatter(df['Age'], df['EstimatedSalary'])\n",
    "plt.title('Age vs EstimateSalary')\n",
    "plt.xlabel('Age')\n",
    "plt.ylabel('EstimatedSalary')"
   ]
  },
  {
   "cell_type": "markdown",
   "metadata": {},
   "source": [
    "There is no Linear relationship between 'Age' and 'EstimatedSalary'. So, we have to use both the columns for the model."
   ]
  },
  {
   "cell_type": "code",
   "execution_count": 15,
   "metadata": {},
   "outputs": [],
   "source": [
    "# Seperating as Features and Target\n",
    "X = df.iloc[:, :-1].values\n",
    "y = df.iloc[:, -1].values"
   ]
  },
  {
   "cell_type": "markdown",
   "metadata": {
    "id": "GpelPvR4iSxv"
   },
   "source": [
    "**Splitting the dataset into the Training set and Test set**"
   ]
  },
  {
   "cell_type": "code",
   "execution_count": 16,
   "metadata": {
    "id": "eROg-IDUh1JZ"
   },
   "outputs": [],
   "source": [
    "from sklearn.model_selection import train_test_split\n",
    "x_train, x_test, y_train, y_test = train_test_split(X, y, test_size = 0.25)"
   ]
  },
  {
   "cell_type": "code",
   "execution_count": 17,
   "metadata": {},
   "outputs": [
    {
     "name": "stdout",
     "output_type": "stream",
     "text": [
      "[[    38  80000]\n",
      " [    48 141000]\n",
      " [    53  72000]\n",
      " [    25  22000]\n",
      " [    56 104000]\n",
      " [    53 104000]\n",
      " [    36  99000]\n",
      " [    37  70000]\n",
      " [    24  27000]\n",
      " [    48  74000]\n",
      " [    40  71000]\n",
      " [    47  51000]\n",
      " [    31  89000]\n",
      " [    27  96000]\n",
      " [    23  63000]\n",
      " [    27  84000]\n",
      " [    58  38000]\n",
      " [    46  32000]\n",
      " [    41  60000]\n",
      " [    37  53000]\n",
      " [    32 117000]\n",
      " [    38  61000]\n",
      " [    43 112000]\n",
      " [    36  75000]\n",
      " [    33 149000]\n",
      " [    40  65000]\n",
      " [    23  28000]\n",
      " [    42  64000]\n",
      " [    40  47000]\n",
      " [    33  69000]\n",
      " [    60  83000]\n",
      " [    37  55000]\n",
      " [    58 101000]\n",
      " [    32  86000]\n",
      " [    42 149000]\n",
      " [    40 107000]\n",
      " [    42  70000]\n",
      " [    31  58000]\n",
      " [    47  49000]\n",
      " [    34 115000]\n",
      " [    20  36000]\n",
      " [    35  47000]\n",
      " [    36  50000]\n",
      " [    48  29000]\n",
      " [    20  74000]\n",
      " [    40  61000]\n",
      " [    49  28000]\n",
      " [    39  61000]\n",
      " [    30  15000]\n",
      " [    58  95000]\n",
      " [    60  34000]\n",
      " [    41  59000]\n",
      " [    37  57000]\n",
      " [    37  72000]\n",
      " [    29  43000]\n",
      " [    47  25000]\n",
      " [    40 142000]\n",
      " [    42  79000]\n",
      " [    41  71000]\n",
      " [    24  84000]\n",
      " [    35  39000]\n",
      " [    59  76000]\n",
      " [    56  60000]\n",
      " [    38  59000]\n",
      " [    42 108000]\n",
      " [    45  26000]\n",
      " [    59  88000]\n",
      " [    52  21000]\n",
      " [    35  59000]\n",
      " [    25  90000]\n",
      " [    40  75000]\n",
      " [    60  42000]\n",
      " [    50  20000]\n",
      " [    46  79000]\n",
      " [    27  20000]\n",
      " [    46  22000]\n",
      " [    20  49000]\n",
      " [    34  43000]\n",
      " [    35  38000]\n",
      " [    51 134000]\n",
      " [    57  60000]\n",
      " [    37  80000]\n",
      " [    21  68000]\n",
      " [    34 112000]\n",
      " [    22  27000]\n",
      " [    45  22000]\n",
      " [    39 134000]\n",
      " [    24  58000]\n",
      " [    18  44000]\n",
      " [    19  19000]\n",
      " [    36  33000]\n",
      " [    19  76000]\n",
      " [    49  86000]\n",
      " [    35  72000]\n",
      " [    25  87000]\n",
      " [    35  23000]\n",
      " [    19  26000]\n",
      " [    35  58000]\n",
      " [    57 122000]\n",
      " [    35  27000]\n",
      " [    42  75000]\n",
      " [    41  72000]\n",
      " [    49  89000]\n",
      " [    42  53000]\n",
      " [    37  77000]\n",
      " [    26 118000]\n",
      " [    40  57000]\n",
      " [    36  60000]\n",
      " [    55  39000]\n",
      " [    52  38000]\n",
      " [    55 125000]\n",
      " [    31  68000]\n",
      " [    39  96000]\n",
      " [    48 119000]\n",
      " [    38  71000]\n",
      " [    39  59000]\n",
      " [    49 141000]\n",
      " [    32 120000]\n",
      " [    35 147000]\n",
      " [    50  36000]\n",
      " [    41  63000]\n",
      " [    48  96000]\n",
      " [    47 113000]\n",
      " [    35  61000]\n",
      " [    31 118000]\n",
      " [    46  28000]\n",
      " [    37  78000]\n",
      " [    27  89000]\n",
      " [    37  33000]\n",
      " [    57  33000]\n",
      " [    26  43000]\n",
      " [    36  52000]\n",
      " [    47  20000]\n",
      " [    37  79000]\n",
      " [    30 135000]\n",
      " [    32 117000]\n",
      " [    35 108000]\n",
      " [    33 113000]\n",
      " [    29  47000]\n",
      " [    46  74000]\n",
      " [    35  75000]\n",
      " [    47  30000]\n",
      " [    27  17000]\n",
      " [    31  66000]\n",
      " [    33  43000]\n",
      " [    46  88000]\n",
      " [    22  63000]\n",
      " [    52  90000]\n",
      " [    41  51000]\n",
      " [    26  80000]\n",
      " [    29 148000]\n",
      " [    19  25000]\n",
      " [    42  54000]\n",
      " [    39 106000]\n",
      " [    47 107000]\n",
      " [    47 144000]\n",
      " [    35  97000]\n",
      " [    52 138000]\n",
      " [    31  15000]\n",
      " [    26  17000]\n",
      " [    37 146000]\n",
      " [    38  51000]\n",
      " [    48 138000]\n",
      " [    40  72000]\n",
      " [    35  88000]\n",
      " [    57  26000]\n",
      " [    59 130000]\n",
      " [    36 144000]\n",
      " [    54 108000]\n",
      " [    49  74000]\n",
      " [    35  50000]\n",
      " [    52 114000]\n",
      " [    42  90000]\n",
      " [    41  52000]\n",
      " [    60 102000]\n",
      " [    42  73000]\n",
      " [    35  44000]\n",
      " [    23  20000]\n",
      " [    46  59000]\n",
      " [    33  31000]\n",
      " [    30  80000]\n",
      " [    54 104000]\n",
      " [    37  52000]\n",
      " [    47  23000]\n",
      " [    56 133000]\n",
      " [    27  58000]\n",
      " [    41  30000]\n",
      " [    36 125000]\n",
      " [    47 105000]\n",
      " [    29  75000]\n",
      " [    27  54000]\n",
      " [    30  87000]\n",
      " [    28  84000]\n",
      " [    26  32000]\n",
      " [    39 122000]\n",
      " [    25  80000]\n",
      " [    18  52000]\n",
      " [    39  73000]\n",
      " [    33  60000]\n",
      " [    18  68000]\n",
      " [    37  93000]\n",
      " [    31  71000]\n",
      " [    35  65000]\n",
      " [    33  41000]\n",
      " [    32  18000]\n",
      " [    42  65000]\n",
      " [    35  53000]\n",
      " [    28  44000]\n",
      " [    46  96000]\n",
      " [    23  82000]\n",
      " [    40  59000]\n",
      " [    30 107000]\n",
      " [    19  85000]\n",
      " [    30  49000]\n",
      " [    26  81000]\n",
      " [    26  15000]\n",
      " [    37  74000]\n",
      " [    53  82000]\n",
      " [    46  41000]\n",
      " [    51  23000]\n",
      " [    51 146000]\n",
      " [    38  65000]\n",
      " [    24  19000]\n",
      " [    39  71000]\n",
      " [    41  80000]\n",
      " [    35  55000]\n",
      " [    30  17000]\n",
      " [    30  62000]\n",
      " [    22  55000]\n",
      " [    48 131000]\n",
      " [    48 134000]\n",
      " [    29  83000]\n",
      " [    45  79000]\n",
      " [    28  37000]\n",
      " [    38 113000]\n",
      " [    33  28000]\n",
      " [    31  74000]\n",
      " [    20  82000]\n",
      " [    45 131000]\n",
      " [    31  18000]\n",
      " [    41  45000]\n",
      " [    22  81000]\n",
      " [    48  33000]\n",
      " [    39  79000]\n",
      " [    32 135000]\n",
      " [    34  25000]\n",
      " [    58  47000]\n",
      " [    29  61000]\n",
      " [    37  75000]\n",
      " [    28  89000]\n",
      " [    24  55000]\n",
      " [    18  86000]\n",
      " [    45  45000]\n",
      " [    49  36000]\n",
      " [    45  32000]\n",
      " [    47  34000]\n",
      " [    25  79000]\n",
      " [    48  35000]\n",
      " [    35  71000]\n",
      " [    35  22000]\n",
      " [    27  90000]\n",
      " [    23  66000]\n",
      " [    49  39000]\n",
      " [    20  86000]\n",
      " [    47  50000]\n",
      " [    21  72000]\n",
      " [    32 100000]\n",
      " [    28  32000]\n",
      " [    42  80000]\n",
      " [    26  86000]\n",
      " [    38 112000]\n",
      " [    36 126000]\n",
      " [    39  42000]\n",
      " [    36  63000]\n",
      " [    48  90000]]\n"
     ]
    }
   ],
   "source": [
    "print(x_train)"
   ]
  },
  {
   "cell_type": "code",
   "execution_count": 18,
   "metadata": {},
   "outputs": [
    {
     "name": "stdout",
     "output_type": "stream",
     "text": [
      "[0 0 1 0 1 1 1 1 0 1 1 1 0 1 0 0 1 1 0 0 1 0 1 0 1 0 0 0 0 0 1 0 1 0 1 1 0\n",
      " 0 1 0 0 0 0 1 0 0 1 0 0 1 1 0 0 0 0 1 1 0 0 0 0 1 1 0 1 1 1 1 0 0 0 1 1 1\n",
      " 0 0 0 0 0 0 1 0 0 1 0 1 1 0 0 0 0 0 1 0 0 0 0 0 1 0 0 0 1 0 0 0 0 0 1 1 1\n",
      " 0 1 1 0 0 1 1 1 1 0 1 1 0 1 1 1 0 0 1 0 0 1 1 1 0 0 0 0 0 0 1 0 0 0 1 0 1\n",
      " 0 0 1 0 0 1 1 1 1 1 0 0 1 0 1 0 0 1 1 1 1 0 0 0 1 0 1 1 0 0 0 0 0 1 0 1 1\n",
      " 0 0 1 1 0 0 0 0 0 1 0 0 0 0 0 1 0 0 0 0 0 0 0 0 0 0 1 0 0 0 0 0 1 1 1 1 0\n",
      " 0 0 0 0 0 0 0 1 1 0 0 0 1 0 0 0 1 0 0 0 1 0 1 0 1 0 0 0 0 0 1 1 1 1 0 1 0\n",
      " 0 0 0 1 0 1 0 1 0 1 0 0 1 0 0 1]\n"
     ]
    }
   ],
   "source": [
    "print(y_train)"
   ]
  },
  {
   "cell_type": "code",
   "execution_count": 19,
   "metadata": {
    "scrolled": true
   },
   "outputs": [
    {
     "name": "stdout",
     "output_type": "stream",
     "text": [
      "[[    32 150000]\n",
      " [    40  60000]\n",
      " [    46  23000]\n",
      " [    35  79000]\n",
      " [    39  75000]\n",
      " [    57  74000]\n",
      " [    26  16000]\n",
      " [    34  72000]\n",
      " [    60 108000]\n",
      " [    37  62000]\n",
      " [    38  50000]\n",
      " [    26  84000]\n",
      " [    29  28000]\n",
      " [    23  48000]\n",
      " [    46  82000]\n",
      " [    26  52000]\n",
      " [    35  25000]\n",
      " [    39  77000]\n",
      " [    19  70000]\n",
      " [    19  21000]\n",
      " [    29  80000]\n",
      " [    20  23000]\n",
      " [    41  79000]\n",
      " [    26  72000]\n",
      " [    27 137000]\n",
      " [    46 117000]\n",
      " [    60  46000]\n",
      " [    24  23000]\n",
      " [    27  57000]\n",
      " [    59  42000]\n",
      " [    28 123000]\n",
      " [    26  35000]\n",
      " [    47  47000]\n",
      " [    44 139000]\n",
      " [    35  73000]\n",
      " [    49  88000]\n",
      " [    18  82000]\n",
      " [    54  70000]\n",
      " [    54  26000]\n",
      " [    44  39000]\n",
      " [    21  88000]\n",
      " [    50  44000]\n",
      " [    35  91000]\n",
      " [    38  55000]\n",
      " [    30  79000]\n",
      " [    27  88000]\n",
      " [    59  83000]\n",
      " [    21  16000]\n",
      " [    27  31000]\n",
      " [    28  87000]\n",
      " [    42  80000]\n",
      " [    28  59000]\n",
      " [    37 144000]\n",
      " [    31  76000]\n",
      " [    22  18000]\n",
      " [    49  65000]\n",
      " [    50  88000]\n",
      " [    42 104000]\n",
      " [    30  89000]\n",
      " [    48  30000]\n",
      " [    53  34000]\n",
      " [    58 144000]\n",
      " [    41  87000]\n",
      " [    26  30000]\n",
      " [    37  71000]\n",
      " [    24  89000]\n",
      " [    24  32000]\n",
      " [    35  77000]\n",
      " [    31  34000]\n",
      " [    36 118000]\n",
      " [    47  43000]\n",
      " [    28  85000]\n",
      " [    35  57000]\n",
      " [    53 143000]\n",
      " [    48  41000]\n",
      " [    30 116000]\n",
      " [    33  51000]\n",
      " [    36  54000]\n",
      " [    37 137000]\n",
      " [    28  79000]\n",
      " [    40  78000]\n",
      " [    25  33000]\n",
      " [    55 130000]\n",
      " [    35  60000]\n",
      " [    58  23000]\n",
      " [    52 150000]\n",
      " [    59  29000]\n",
      " [    28  55000]\n",
      " [    43 133000]\n",
      " [    43 129000]\n",
      " [    59 143000]\n",
      " [    35  20000]]\n"
     ]
    }
   ],
   "source": [
    "print(x_test)"
   ]
  },
  {
   "cell_type": "code",
   "execution_count": 20,
   "metadata": {},
   "outputs": [
    {
     "name": "stdout",
     "output_type": "stream",
     "text": [
      "[1 0 1 0 1 1 0 0 1 0 0 0 0 0 0 0 0 0 0 0 0 0 0 0 1 1 1 0 0 0 1 0 0 1 0 1 0\n",
      " 1 1 0 0 0 1 0 0 0 0 0 0 0 0 0 1 0 0 0 1 1 0 1 1 1 1 0 0 0 0 0 0 1 0 0 0 1\n",
      " 1 0 0 0 1 0 0 0 1 0 1 1 1 0 0 1 1 0]\n"
     ]
    }
   ],
   "source": [
    "print(y_test)"
   ]
  },
  {
   "cell_type": "markdown",
   "metadata": {
    "id": "cwBqfX6WiZOx"
   },
   "source": [
    "**Feature Scaling**"
   ]
  },
  {
   "cell_type": "code",
   "execution_count": 21,
   "metadata": {
    "id": "yCcfuhv_h1Lw"
   },
   "outputs": [],
   "source": [
    "from sklearn.preprocessing import StandardScaler\n",
    "sc = StandardScaler()\n",
    "x_train = sc.fit_transform(x_train)\n",
    "x_test = sc.transform(x_test)"
   ]
  },
  {
   "cell_type": "markdown",
   "metadata": {
    "id": "OUGszSAKinhN"
   },
   "source": [
    "**Fitting SVM to the Training set**"
   ]
  },
  {
   "cell_type": "code",
   "execution_count": 22,
   "metadata": {
    "id": "FLIzMPkOh1Ob"
   },
   "outputs": [
    {
     "data": {
      "text/plain": [
       "SVC()"
      ]
     },
     "execution_count": 22,
     "metadata": {},
     "output_type": "execute_result"
    }
   ],
   "source": [
    "from sklearn.svm import SVC\n",
    "classifier = SVC()\n",
    "classifier.fit(x_train, y_train)"
   ]
  },
  {
   "cell_type": "code",
   "execution_count": 23,
   "metadata": {},
   "outputs": [
    {
     "data": {
      "text/plain": [
       "array([[ 0.02006504,  0.28035568],\n",
       "       [ 0.98811533,  2.07538111],\n",
       "       [ 1.47214047,  0.04494251],\n",
       "       [-1.23840033, -1.4263898 ],\n",
       "       [ 1.76255556,  0.9865952 ],\n",
       "       [ 1.47214047,  0.9865952 ],\n",
       "       [-0.17354501,  0.83946196],\n",
       "       [-0.07673999, -0.01391078],\n",
       "       [-1.33520536, -1.27925657],\n",
       "       [ 0.98811533,  0.10379581],\n",
       "       [ 0.2136751 ,  0.01551587],\n",
       "       [ 0.8913103 , -0.57301706],\n",
       "       [-0.65757016,  0.5451955 ],\n",
       "       [-1.04479027,  0.75118203],\n",
       "       [-1.43201039, -0.2198973 ],\n",
       "       [-1.04479027,  0.39806227],\n",
       "       [ 1.95616561, -0.95556346],\n",
       "       [ 0.79450527, -1.13212334],\n",
       "       [ 0.31048013, -0.30817724],\n",
       "       [-0.07673999, -0.51416377],\n",
       "       [-0.56076513,  1.3691416 ],\n",
       "       [ 0.02006504, -0.2787506 ],\n",
       "       [ 0.50409019,  1.22200837],\n",
       "       [-0.17354501,  0.13322245],\n",
       "       [-0.4639601 ,  2.31079428],\n",
       "       [ 0.2136751 , -0.16104401],\n",
       "       [-1.43201039, -1.24982992],\n",
       "       [ 0.40728516, -0.19047066],\n",
       "       [ 0.2136751 , -0.69072364],\n",
       "       [-0.4639601 , -0.04333742],\n",
       "       [ 2.14977567,  0.36863562],\n",
       "       [-0.07673999, -0.45531047],\n",
       "       [ 1.95616561,  0.89831526],\n",
       "       [-0.56076513,  0.45691556],\n",
       "       [ 0.40728516,  2.31079428],\n",
       "       [ 0.2136751 ,  1.07487514],\n",
       "       [ 0.40728516, -0.01391078],\n",
       "       [-0.65757016, -0.36703053],\n",
       "       [ 0.8913103 , -0.63187035],\n",
       "       [-0.36715507,  1.31028831],\n",
       "       [-1.72242547, -1.01441675],\n",
       "       [-0.27035004, -0.69072364],\n",
       "       [-0.17354501, -0.6024437 ],\n",
       "       [ 0.98811533, -1.22040328],\n",
       "       [-1.72242547,  0.10379581],\n",
       "       [ 0.2136751 , -0.2787506 ],\n",
       "       [ 1.08492036, -1.24982992],\n",
       "       [ 0.11687007, -0.2787506 ],\n",
       "       [-0.75437519, -1.63237633],\n",
       "       [ 1.95616561,  0.72175538],\n",
       "       [ 2.14977567, -1.07327005],\n",
       "       [ 0.31048013, -0.33760389],\n",
       "       [-0.07673999, -0.39645718],\n",
       "       [-0.07673999,  0.04494251],\n",
       "       [-0.85118022, -0.80843023],\n",
       "       [ 0.8913103 , -1.33810986],\n",
       "       [ 0.2136751 ,  2.10480776],\n",
       "       [ 0.40728516,  0.25092904],\n",
       "       [ 0.31048013,  0.01551587],\n",
       "       [-1.33520536,  0.39806227],\n",
       "       [-0.27035004, -0.92613681],\n",
       "       [ 2.05297064,  0.1626491 ],\n",
       "       [ 1.76255556, -0.30817724],\n",
       "       [ 0.02006504, -0.33760389],\n",
       "       [ 0.40728516,  1.10430178],\n",
       "       [ 0.69770024, -1.30868322],\n",
       "       [ 2.05297064,  0.51576886],\n",
       "       [ 1.37533544, -1.45581645],\n",
       "       [-0.27035004, -0.33760389],\n",
       "       [-1.23840033,  0.57462215],\n",
       "       [ 0.2136751 ,  0.13322245],\n",
       "       [ 2.14977567, -0.83785687],\n",
       "       [ 1.18172539, -1.48524309],\n",
       "       [ 0.79450527,  0.25092904],\n",
       "       [-1.04479027, -1.48524309],\n",
       "       [ 0.79450527, -1.4263898 ],\n",
       "       [-1.72242547, -0.63187035],\n",
       "       [-0.36715507, -0.80843023],\n",
       "       [-0.27035004, -0.95556346],\n",
       "       [ 1.27853041,  1.86939459],\n",
       "       [ 1.85936059, -0.30817724],\n",
       "       [-0.07673999,  0.28035568],\n",
       "       [-1.62562044, -0.07276407],\n",
       "       [-0.36715507,  1.22200837],\n",
       "       [-1.52881542, -1.27925657],\n",
       "       [ 0.69770024, -1.4263898 ],\n",
       "       [ 0.11687007,  1.86939459],\n",
       "       [-1.33520536, -0.36703053],\n",
       "       [-1.91603553, -0.77900358],\n",
       "       [-1.8192305 , -1.51466974],\n",
       "       [-0.17354501, -1.10269669],\n",
       "       [-1.8192305 ,  0.1626491 ],\n",
       "       [ 1.08492036,  0.45691556],\n",
       "       [-0.27035004,  0.04494251],\n",
       "       [-1.23840033,  0.48634221],\n",
       "       [-0.27035004, -1.39696315],\n",
       "       [-1.8192305 , -1.30868322],\n",
       "       [-0.27035004, -0.36703053],\n",
       "       [ 1.85936059,  1.51627483],\n",
       "       [-0.27035004, -1.27925657],\n",
       "       [ 0.40728516,  0.13322245],\n",
       "       [ 0.31048013,  0.04494251],\n",
       "       [ 1.08492036,  0.5451955 ],\n",
       "       [ 0.40728516, -0.51416377],\n",
       "       [-0.07673999,  0.19207575],\n",
       "       [-1.1415953 ,  1.39856824],\n",
       "       [ 0.2136751 , -0.39645718],\n",
       "       [-0.17354501, -0.30817724],\n",
       "       [ 1.66575053, -0.92613681],\n",
       "       [ 1.37533544, -0.95556346],\n",
       "       [ 1.66575053,  1.60455477],\n",
       "       [-0.65757016, -0.07276407],\n",
       "       [ 0.11687007,  0.75118203],\n",
       "       [ 0.98811533,  1.42799489],\n",
       "       [ 0.02006504,  0.01551587],\n",
       "       [ 0.11687007, -0.33760389],\n",
       "       [ 1.08492036,  2.07538111],\n",
       "       [-0.56076513,  1.45742154],\n",
       "       [-0.27035004,  2.25194099],\n",
       "       [ 1.18172539, -1.01441675],\n",
       "       [ 0.31048013, -0.2198973 ],\n",
       "       [ 0.98811533,  0.75118203],\n",
       "       [ 0.8913103 ,  1.25143501],\n",
       "       [-0.27035004, -0.2787506 ],\n",
       "       [-0.65757016,  1.39856824],\n",
       "       [ 0.79450527, -1.24982992],\n",
       "       [-0.07673999,  0.22150239],\n",
       "       [-1.04479027,  0.5451955 ],\n",
       "       [-0.07673999, -1.10269669],\n",
       "       [ 1.85936059, -1.10269669],\n",
       "       [-1.1415953 , -0.80843023],\n",
       "       [-0.17354501, -0.54359041],\n",
       "       [ 0.8913103 , -1.48524309],\n",
       "       [-0.07673999,  0.25092904],\n",
       "       [-0.75437519,  1.89882123],\n",
       "       [-0.56076513,  1.3691416 ],\n",
       "       [-0.27035004,  1.10430178],\n",
       "       [-0.4639601 ,  1.25143501],\n",
       "       [-0.85118022, -0.69072364],\n",
       "       [ 0.79450527,  0.10379581],\n",
       "       [-0.27035004,  0.13322245],\n",
       "       [ 0.8913103 , -1.19097663],\n",
       "       [-1.04479027, -1.57352303],\n",
       "       [-0.65757016, -0.13161736],\n",
       "       [-0.4639601 , -0.80843023],\n",
       "       [ 0.79450527,  0.51576886],\n",
       "       [-1.52881542, -0.2198973 ],\n",
       "       [ 1.37533544,  0.57462215],\n",
       "       [ 0.31048013, -0.57301706],\n",
       "       [-1.1415953 ,  0.28035568],\n",
       "       [-0.85118022,  2.28136763],\n",
       "       [-1.8192305 , -1.33810986],\n",
       "       [ 0.40728516, -0.48473712],\n",
       "       [ 0.11687007,  1.04544849],\n",
       "       [ 0.8913103 ,  1.07487514],\n",
       "       [ 0.8913103 ,  2.16366105],\n",
       "       [-0.27035004,  0.78060867],\n",
       "       [ 1.37533544,  1.98710117],\n",
       "       [-0.65757016, -1.63237633],\n",
       "       [-1.1415953 , -1.57352303],\n",
       "       [-0.07673999,  2.22251434],\n",
       "       [ 0.02006504, -0.57301706],\n",
       "       [ 0.98811533,  1.98710117],\n",
       "       [ 0.2136751 ,  0.04494251],\n",
       "       [-0.27035004,  0.51576886],\n",
       "       [ 1.85936059, -1.30868322],\n",
       "       [ 2.05297064,  1.751688  ],\n",
       "       [-0.17354501,  2.16366105],\n",
       "       [ 1.5689455 ,  1.10430178],\n",
       "       [ 1.08492036,  0.10379581],\n",
       "       [-0.27035004, -0.6024437 ],\n",
       "       [ 1.37533544,  1.28086166],\n",
       "       [ 0.40728516,  0.57462215],\n",
       "       [ 0.31048013, -0.54359041],\n",
       "       [ 2.14977567,  0.9277419 ],\n",
       "       [ 0.40728516,  0.07436916],\n",
       "       [-0.27035004, -0.77900358],\n",
       "       [-1.43201039, -1.48524309],\n",
       "       [ 0.79450527, -0.33760389],\n",
       "       [-0.4639601 , -1.16154998],\n",
       "       [-0.75437519,  0.28035568],\n",
       "       [ 1.5689455 ,  0.9865952 ],\n",
       "       [-0.07673999, -0.54359041],\n",
       "       [ 0.8913103 , -1.39696315],\n",
       "       [ 1.76255556,  1.83996794],\n",
       "       [-1.04479027, -0.36703053],\n",
       "       [ 0.31048013, -1.19097663],\n",
       "       [-0.17354501,  1.60455477],\n",
       "       [ 0.8913103 ,  1.01602184],\n",
       "       [-0.85118022,  0.13322245],\n",
       "       [-1.04479027, -0.48473712],\n",
       "       [-0.75437519,  0.48634221],\n",
       "       [-0.94798524,  0.39806227],\n",
       "       [-1.1415953 , -1.13212334],\n",
       "       [ 0.11687007,  1.51627483],\n",
       "       [-1.23840033,  0.28035568],\n",
       "       [-1.91603553, -0.54359041],\n",
       "       [ 0.11687007,  0.07436916],\n",
       "       [-0.4639601 , -0.30817724],\n",
       "       [-1.91603553, -0.07276407],\n",
       "       [-0.07673999,  0.66290209],\n",
       "       [-0.65757016,  0.01551587],\n",
       "       [-0.27035004, -0.16104401],\n",
       "       [-0.4639601 , -0.86728352],\n",
       "       [-0.56076513, -1.54409639],\n",
       "       [ 0.40728516, -0.16104401],\n",
       "       [-0.27035004, -0.51416377],\n",
       "       [-0.94798524, -0.77900358],\n",
       "       [ 0.79450527,  0.75118203],\n",
       "       [-1.43201039,  0.33920898],\n",
       "       [ 0.2136751 , -0.33760389],\n",
       "       [-0.75437519,  1.07487514],\n",
       "       [-1.8192305 ,  0.42748892],\n",
       "       [-0.75437519, -0.63187035],\n",
       "       [-1.1415953 ,  0.30978233],\n",
       "       [-1.1415953 , -1.63237633],\n",
       "       [-0.07673999,  0.10379581],\n",
       "       [ 1.47214047,  0.33920898],\n",
       "       [ 0.79450527, -0.86728352],\n",
       "       [ 1.27853041, -1.39696315],\n",
       "       [ 1.27853041,  2.22251434],\n",
       "       [ 0.02006504, -0.16104401],\n",
       "       [-1.33520536, -1.51466974],\n",
       "       [ 0.11687007,  0.01551587],\n",
       "       [ 0.31048013,  0.28035568],\n",
       "       [-0.27035004, -0.45531047],\n",
       "       [-0.75437519, -1.57352303],\n",
       "       [-0.75437519, -0.24932395],\n",
       "       [-1.52881542, -0.45531047],\n",
       "       [ 0.98811533,  1.78111465],\n",
       "       [ 0.98811533,  1.86939459],\n",
       "       [-0.85118022,  0.36863562],\n",
       "       [ 0.69770024,  0.25092904],\n",
       "       [-0.94798524, -0.98499011],\n",
       "       [ 0.02006504,  1.25143501],\n",
       "       [-0.4639601 , -1.24982992],\n",
       "       [-0.65757016,  0.10379581],\n",
       "       [-1.72242547,  0.33920898],\n",
       "       [ 0.69770024,  1.78111465],\n",
       "       [-0.65757016, -1.54409639],\n",
       "       [ 0.31048013, -0.74957694],\n",
       "       [-1.52881542,  0.30978233],\n",
       "       [ 0.98811533, -1.10269669],\n",
       "       [ 0.11687007,  0.25092904],\n",
       "       [-0.56076513,  1.89882123],\n",
       "       [-0.36715507, -1.33810986],\n",
       "       [ 1.95616561, -0.69072364],\n",
       "       [-0.85118022, -0.2787506 ],\n",
       "       [-0.07673999,  0.13322245],\n",
       "       [-0.94798524,  0.5451955 ],\n",
       "       [-1.33520536, -0.45531047],\n",
       "       [-1.91603553,  0.45691556],\n",
       "       [ 0.69770024, -0.74957694],\n",
       "       [ 1.08492036, -1.01441675],\n",
       "       [ 0.69770024, -1.13212334],\n",
       "       [ 0.8913103 , -1.07327005],\n",
       "       [-1.23840033,  0.25092904],\n",
       "       [ 0.98811533, -1.0438434 ],\n",
       "       [-0.27035004,  0.01551587],\n",
       "       [-0.27035004, -1.4263898 ],\n",
       "       [-1.04479027,  0.57462215],\n",
       "       [-1.43201039, -0.13161736],\n",
       "       [ 1.08492036, -0.92613681],\n",
       "       [-1.72242547,  0.45691556],\n",
       "       [ 0.8913103 , -0.6024437 ],\n",
       "       [-1.62562044,  0.04494251],\n",
       "       [-0.56076513,  0.86888861],\n",
       "       [-0.94798524, -1.13212334],\n",
       "       [ 0.40728516,  0.28035568],\n",
       "       [-1.1415953 ,  0.45691556],\n",
       "       [ 0.02006504,  1.22200837],\n",
       "       [-0.17354501,  1.63398141],\n",
       "       [ 0.11687007, -0.83785687],\n",
       "       [-0.17354501, -0.2198973 ],\n",
       "       [ 0.98811533,  0.57462215]])"
      ]
     },
     "execution_count": 23,
     "metadata": {},
     "output_type": "execute_result"
    }
   ],
   "source": [
    "x_train"
   ]
  },
  {
   "cell_type": "code",
   "execution_count": 24,
   "metadata": {},
   "outputs": [
    {
     "data": {
      "text/plain": [
       "array([[-0.56076513,  2.34022093],\n",
       "       [ 0.2136751 , -0.30817724],\n",
       "       [ 0.79450527, -1.39696315],\n",
       "       [-0.27035004,  0.25092904],\n",
       "       [ 0.11687007,  0.13322245],\n",
       "       [ 1.85936059,  0.10379581],\n",
       "       [-1.1415953 , -1.60294968],\n",
       "       [-0.36715507,  0.04494251],\n",
       "       [ 2.14977567,  1.10430178],\n",
       "       [-0.07673999, -0.24932395],\n",
       "       [ 0.02006504, -0.6024437 ],\n",
       "       [-1.1415953 ,  0.39806227],\n",
       "       [-0.85118022, -1.24982992],\n",
       "       [-1.43201039, -0.661297  ],\n",
       "       [ 0.79450527,  0.33920898],\n",
       "       [-1.1415953 , -0.54359041],\n",
       "       [-0.27035004, -1.33810986],\n",
       "       [ 0.11687007,  0.19207575],\n",
       "       [-1.8192305 , -0.01391078],\n",
       "       [-1.8192305 , -1.45581645],\n",
       "       [-0.85118022,  0.28035568],\n",
       "       [-1.72242547, -1.39696315],\n",
       "       [ 0.31048013,  0.25092904],\n",
       "       [-1.1415953 ,  0.04494251],\n",
       "       [-1.04479027,  1.95767452],\n",
       "       [ 0.79450527,  1.3691416 ],\n",
       "       [ 2.14977567, -0.72015029],\n",
       "       [-1.33520536, -1.39696315],\n",
       "       [-1.04479027, -0.39645718],\n",
       "       [ 2.05297064, -0.83785687],\n",
       "       [-0.94798524,  1.54570148],\n",
       "       [-1.1415953 , -1.0438434 ],\n",
       "       [ 0.8913103 , -0.69072364],\n",
       "       [ 0.60089521,  2.01652782],\n",
       "       [-0.27035004,  0.07436916],\n",
       "       [ 1.08492036,  0.51576886],\n",
       "       [-1.91603553,  0.33920898],\n",
       "       [ 1.5689455 , -0.01391078],\n",
       "       [ 1.5689455 , -1.30868322],\n",
       "       [ 0.60089521, -0.92613681],\n",
       "       [-1.62562044,  0.51576886],\n",
       "       [ 1.18172539, -0.77900358],\n",
       "       [-0.27035004,  0.60404879],\n",
       "       [ 0.02006504, -0.45531047],\n",
       "       [-0.75437519,  0.25092904],\n",
       "       [-1.04479027,  0.51576886],\n",
       "       [ 2.05297064,  0.36863562],\n",
       "       [-1.62562044, -1.60294968],\n",
       "       [-1.04479027, -1.16154998],\n",
       "       [-0.94798524,  0.48634221],\n",
       "       [ 0.40728516,  0.28035568],\n",
       "       [-0.94798524, -0.33760389],\n",
       "       [-0.07673999,  2.16366105],\n",
       "       [-0.65757016,  0.1626491 ],\n",
       "       [-1.52881542, -1.54409639],\n",
       "       [ 1.08492036, -0.16104401],\n",
       "       [ 1.18172539,  0.51576886],\n",
       "       [ 0.40728516,  0.9865952 ],\n",
       "       [-0.75437519,  0.5451955 ],\n",
       "       [ 0.98811533, -1.19097663],\n",
       "       [ 1.47214047, -1.07327005],\n",
       "       [ 1.95616561,  2.16366105],\n",
       "       [ 0.31048013,  0.48634221],\n",
       "       [-1.1415953 , -1.19097663],\n",
       "       [-0.07673999,  0.01551587],\n",
       "       [-1.33520536,  0.5451955 ],\n",
       "       [-1.33520536, -1.13212334],\n",
       "       [-0.27035004,  0.19207575],\n",
       "       [-0.65757016, -1.07327005],\n",
       "       [-0.17354501,  1.39856824],\n",
       "       [ 0.8913103 , -0.80843023],\n",
       "       [-0.94798524,  0.42748892],\n",
       "       [-0.27035004, -0.39645718],\n",
       "       [ 1.47214047,  2.1342344 ],\n",
       "       [ 0.98811533, -0.86728352],\n",
       "       [-0.75437519,  1.33971495],\n",
       "       [-0.4639601 , -0.57301706],\n",
       "       [-0.17354501, -0.48473712],\n",
       "       [-0.07673999,  1.95767452],\n",
       "       [-0.94798524,  0.25092904],\n",
       "       [ 0.2136751 ,  0.22150239],\n",
       "       [-1.23840033, -1.10269669],\n",
       "       [ 1.66575053,  1.751688  ],\n",
       "       [-0.27035004, -0.30817724],\n",
       "       [ 1.95616561, -1.39696315],\n",
       "       [ 1.37533544,  2.34022093],\n",
       "       [ 2.05297064, -1.22040328],\n",
       "       [-0.94798524, -0.45531047],\n",
       "       [ 0.50409019,  1.83996794],\n",
       "       [ 0.50409019,  1.72226135],\n",
       "       [ 2.05297064,  2.1342344 ],\n",
       "       [-0.27035004, -1.48524309]])"
      ]
     },
     "execution_count": 24,
     "metadata": {},
     "output_type": "execute_result"
    }
   ],
   "source": [
    "x_test"
   ]
  },
  {
   "cell_type": "markdown",
   "metadata": {
    "id": "aW3yFyofiqtE"
   },
   "source": [
    "**Predicting the Test set results**"
   ]
  },
  {
   "cell_type": "code",
   "execution_count": 25,
   "metadata": {
    "id": "aG_OGjavh1Q4"
   },
   "outputs": [
    {
     "name": "stdout",
     "output_type": "stream",
     "text": [
      "[0]\n"
     ]
    }
   ],
   "source": [
    "# Predicting a new result\n",
    "print(classifier.predict(sc.transform([[22, 75520]])))"
   ]
  },
  {
   "cell_type": "code",
   "execution_count": 26,
   "metadata": {
    "scrolled": true
   },
   "outputs": [
    {
     "name": "stdout",
     "output_type": "stream",
     "text": [
      "[[1 1]\n",
      " [0 0]\n",
      " [1 1]\n",
      " [0 0]\n",
      " [0 1]\n",
      " [1 1]\n",
      " [0 0]\n",
      " [0 0]\n",
      " [1 1]\n",
      " [0 0]\n",
      " [0 0]\n",
      " [0 0]\n",
      " [0 0]\n",
      " [0 0]\n",
      " [1 0]\n",
      " [0 0]\n",
      " [0 0]\n",
      " [0 0]\n",
      " [0 0]\n",
      " [0 0]\n",
      " [0 0]\n",
      " [0 0]\n",
      " [0 0]\n",
      " [0 0]\n",
      " [1 1]\n",
      " [1 1]\n",
      " [1 1]\n",
      " [0 0]\n",
      " [0 0]\n",
      " [1 0]\n",
      " [1 1]\n",
      " [0 0]\n",
      " [1 0]\n",
      " [1 1]\n",
      " [0 0]\n",
      " [1 1]\n",
      " [0 0]\n",
      " [1 1]\n",
      " [1 1]\n",
      " [1 0]\n",
      " [0 0]\n",
      " [1 0]\n",
      " [0 1]\n",
      " [0 0]\n",
      " [0 0]\n",
      " [0 0]\n",
      " [1 0]\n",
      " [0 0]\n",
      " [0 0]\n",
      " [0 0]\n",
      " [0 0]\n",
      " [0 0]\n",
      " [1 1]\n",
      " [0 0]\n",
      " [0 0]\n",
      " [1 0]\n",
      " [1 1]\n",
      " [1 1]\n",
      " [0 0]\n",
      " [1 1]\n",
      " [1 1]\n",
      " [1 1]\n",
      " [0 1]\n",
      " [0 0]\n",
      " [0 0]\n",
      " [0 0]\n",
      " [0 0]\n",
      " [0 0]\n",
      " [0 0]\n",
      " [1 1]\n",
      " [1 0]\n",
      " [0 0]\n",
      " [0 0]\n",
      " [1 1]\n",
      " [1 1]\n",
      " [1 0]\n",
      " [0 0]\n",
      " [0 0]\n",
      " [1 1]\n",
      " [0 0]\n",
      " [0 0]\n",
      " [0 0]\n",
      " [1 1]\n",
      " [0 0]\n",
      " [1 1]\n",
      " [1 1]\n",
      " [1 1]\n",
      " [0 0]\n",
      " [1 0]\n",
      " [1 1]\n",
      " [1 1]\n",
      " [0 0]]\n"
     ]
    }
   ],
   "source": [
    "# Predicting test set results\n",
    "y_pred = classifier.predict(x_test)\n",
    "print(np.concatenate((y_pred.reshape(len(y_pred),1), y_test.reshape(len(y_test),1)),1))"
   ]
  },
  {
   "cell_type": "markdown",
   "metadata": {
    "id": "4Kfn-chPi4Ts"
   },
   "source": [
    "**Making the Confusion Matrix**"
   ]
  },
  {
   "cell_type": "code",
   "execution_count": 27,
   "metadata": {
    "id": "G7VPRN2Ah1Tm"
   },
   "outputs": [
    {
     "name": "stdout",
     "output_type": "stream",
     "text": [
      "[[51 10]\n",
      " [ 3 28]]\n"
     ]
    }
   ],
   "source": [
    "from sklearn.metrics import confusion_matrix\n",
    "cm = confusion_matrix(y_test, y_pred)\n",
    "print(cm)"
   ]
  },
  {
   "cell_type": "markdown",
   "metadata": {
    "id": "7Fo3I-pKi7JQ"
   },
   "source": [
    "**Visualising the Training set results**"
   ]
  },
  {
   "cell_type": "code",
   "execution_count": 28,
   "metadata": {
    "id": "hI3xXh_oh1XK"
   },
   "outputs": [
    {
     "data": {
      "text/plain": [
       "<matplotlib.axes._subplots.AxesSubplot at 0x1d27cdac898>"
      ]
     },
     "execution_count": 28,
     "metadata": {},
     "output_type": "execute_result"
    },
    {
     "data": {
      "image/png": "[encoded data removed]",
      "text/plain": [
       "<Figure size 432x288 with 1 Axes>"
      ]
     },
     "metadata": {
      "needs_background": "light"
     },
     "output_type": "display_data"
    }
   ],
   "source": [
    "from mlxtend.plotting import plot_decision_regions\n",
    "plot_decision_regions(x_train, y_train, clf=classifier)"
   ]
  },
  {
   "cell_type": "markdown",
   "metadata": {
    "id": "FudAc9-6jSS9"
   },
   "source": [
    "**Visualising the Test set results**"
   ]
  },
  {
   "cell_type": "code",
   "execution_count": 29,
   "metadata": {
    "id": "Q3aQCPffjHqj"
   },
   "outputs": [
    {
     "data": {
      "text/plain": [
       "<matplotlib.axes._subplots.AxesSubplot at 0x1d27ad5f588>"
      ]
     },
     "execution_count": 29,
     "metadata": {},
     "output_type": "execute_result"
    },
    {
     "data": {
      "image/png": "[encoded data removed]",
      "text/plain": [
       "<Figure size 432x288 with 1 Axes>"
      ]
     },
     "metadata": {
      "needs_background": "light"
     },
     "output_type": "display_data"
    }
   ],
   "source": [
    "plot_decision_regions(x_test, y_test, clf=classifier)"
   ]
  }
 ],
 "metadata": {
  "colab": {
   "name": "SVM_Assignment14.ipynb",
   "provenance": []
  },
  "kernelspec": {
   "display_name": "Python 3",
   "language": "python",
   "name": "python3"
  },
  "language_info": {
   "codemirror_mode": {
    "name": "ipython",
    "version": 3
   },
   "file_extension": ".py",
   "mimetype": "text/x-python",
   "name": "python",
   "nbconvert_exporter": "python",
   "pygments_lexer": "ipython3",
   "version": "3.7.3"
  }
 },
 "nbformat": 4,
 "nbformat_minor": 1
}
