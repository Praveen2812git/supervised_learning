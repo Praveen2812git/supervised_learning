{
 "cells": [
  {
   "cell_type": "code",
   "execution_count": 1,
   "metadata": {
    "id": "xugUQsM_jkbL"
   },
   "outputs": [],
   "source": [
    "# Social_Network_Ads.csv"
   ]
  },
  {
   "cell_type": "markdown",
   "metadata": {
    "id": "t_YJ-uqLmRuD"
   },
   "source": [
    "This dataset contains information of users in a social network. Those informations are the user id the gender the age and the estimated salary. A car company has just launched their brand new luxury SUV. And we're trying to see which of these users of the social network are going to buy this brand new SUV And the last column here tells If yes or no the user bought this SUV we are going to build a model that is going to predict if a user is going to buy or not the SUV based on two variables which are going to be the age and the estimated salary. So our matrix of feature is only going to be these two columns. We want to find some correlations between the age and the estimated salary of a user and his decision to purchase yes or no the SUV.\n"
   ]
  },
  {
   "cell_type": "markdown",
   "metadata": {
    "id": "sgTgwccsk5Yu"
   },
   "source": [
    "**Step 1 | Data Pre-Processing**"
   ]
  },
  {
   "cell_type": "markdown",
   "metadata": {
    "id": "bKWN0MOblEKa"
   },
   "source": [
    "**Importing the Libraries**"
   ]
  },
  {
   "cell_type": "code",
   "execution_count": 2,
   "metadata": {
    "id": "8cIjONoJj8u0"
   },
   "outputs": [],
   "source": [
    "import pandas as pd\n",
    "import numpy as np\n",
    "import matplotlib.pyplot as plt\n",
    "from mlxtend.plotting import plot_decision_regions"
   ]
  },
  {
   "cell_type": "markdown",
   "metadata": {
    "id": "bM9O8a0YlNWk"
   },
   "source": [
    "**Importing the dataset**"
   ]
  },
  {
   "cell_type": "code",
   "execution_count": 3,
   "metadata": {
    "id": "vfPLWJHRlM-4"
   },
   "outputs": [],
   "source": [
    "df = pd.read_csv('Social_Network_Ads.csv')\n",
    "df = df.iloc[:, 2:]"
   ]
  },
  {
   "cell_type": "code",
   "execution_count": 4,
   "metadata": {},
   "outputs": [
    {
     "data": {
      "text/html": [
       "<div>\n",
       "<style scoped>\n",
       "    .dataframe tbody tr th:only-of-type {\n",
       "        vertical-align: middle;\n",
       "    }\n",
       "\n",
       "    .dataframe tbody tr th {\n",
       "        vertical-align: top;\n",
       "    }\n",
       "\n",
       "    .dataframe thead th {\n",
       "        text-align: right;\n",
       "    }\n",
       "</style>\n",
       "<table border=\"1\" class=\"dataframe\">\n",
       "  <thead>\n",
       "    <tr style=\"text-align: right;\">\n",
       "      <th></th>\n",
       "      <th>Age</th>\n",
       "      <th>EstimatedSalary</th>\n",
       "      <th>Purchased</th>\n",
       "    </tr>\n",
       "  </thead>\n",
       "  <tbody>\n",
       "    <tr>\n",
       "      <th>0</th>\n",
       "      <td>19</td>\n",
       "      <td>19000</td>\n",
       "      <td>0</td>\n",
       "    </tr>\n",
       "    <tr>\n",
       "      <th>1</th>\n",
       "      <td>35</td>\n",
       "      <td>20000</td>\n",
       "      <td>0</td>\n",
       "    </tr>\n",
       "    <tr>\n",
       "      <th>2</th>\n",
       "      <td>26</td>\n",
       "      <td>43000</td>\n",
       "      <td>0</td>\n",
       "    </tr>\n",
       "    <tr>\n",
       "      <th>3</th>\n",
       "      <td>27</td>\n",
       "      <td>57000</td>\n",
       "      <td>0</td>\n",
       "    </tr>\n",
       "    <tr>\n",
       "      <th>4</th>\n",
       "      <td>19</td>\n",
       "      <td>76000</td>\n",
       "      <td>0</td>\n",
       "    </tr>\n",
       "  </tbody>\n",
       "</table>\n",
       "</div>"
      ],
      "text/plain": [
       "   Age  EstimatedSalary  Purchased\n",
       "0   19            19000          0\n",
       "1   35            20000          0\n",
       "2   26            43000          0\n",
       "3   27            57000          0\n",
       "4   19            76000          0"
      ]
     },
     "execution_count": 4,
     "metadata": {},
     "output_type": "execute_result"
    }
   ],
   "source": [
    "df.head()"
   ]
  },
  {
   "cell_type": "code",
   "execution_count": 5,
   "metadata": {},
   "outputs": [
    {
     "data": {
      "text/plain": [
       "array([0, 1], dtype=int64)"
      ]
     },
     "execution_count": 5,
     "metadata": {},
     "output_type": "execute_result"
    }
   ],
   "source": [
    "df['Purchased'].unique()"
   ]
  },
  {
   "cell_type": "code",
   "execution_count": 6,
   "metadata": {},
   "outputs": [
    {
     "data": {
      "text/plain": [
       "(400, 3)"
      ]
     },
     "execution_count": 6,
     "metadata": {},
     "output_type": "execute_result"
    }
   ],
   "source": [
    "df.shape"
   ]
  },
  {
   "cell_type": "code",
   "execution_count": 7,
   "metadata": {},
   "outputs": [
    {
     "data": {
      "text/plain": [
       "Age                0\n",
       "EstimatedSalary    0\n",
       "Purchased          0\n",
       "dtype: int64"
      ]
     },
     "execution_count": 7,
     "metadata": {},
     "output_type": "execute_result"
    }
   ],
   "source": [
    "df.isnull().sum()"
   ]
  },
  {
   "cell_type": "code",
   "execution_count": 8,
   "metadata": {},
   "outputs": [],
   "source": [
    "df.drop_duplicates(inplace=True)"
   ]
  },
  {
   "cell_type": "code",
   "execution_count": 9,
   "metadata": {},
   "outputs": [
    {
     "data": {
      "text/plain": [
       "(367, 3)"
      ]
     },
     "execution_count": 9,
     "metadata": {},
     "output_type": "execute_result"
    }
   ],
   "source": [
    "df.shape"
   ]
  },
  {
   "cell_type": "code",
   "execution_count": 10,
   "metadata": {},
   "outputs": [
    {
     "data": {
      "text/html": [
       "<div>\n",
       "<style scoped>\n",
       "    .dataframe tbody tr th:only-of-type {\n",
       "        vertical-align: middle;\n",
       "    }\n",
       "\n",
       "    .dataframe tbody tr th {\n",
       "        vertical-align: top;\n",
       "    }\n",
       "\n",
       "    .dataframe thead th {\n",
       "        text-align: right;\n",
       "    }\n",
       "</style>\n",
       "<table border=\"1\" class=\"dataframe\">\n",
       "  <thead>\n",
       "    <tr style=\"text-align: right;\">\n",
       "      <th></th>\n",
       "      <th>Age</th>\n",
       "      <th>EstimatedSalary</th>\n",
       "      <th>Purchased</th>\n",
       "    </tr>\n",
       "  </thead>\n",
       "  <tbody>\n",
       "    <tr>\n",
       "      <th>count</th>\n",
       "      <td>367.000000</td>\n",
       "      <td>367.000000</td>\n",
       "      <td>367.000000</td>\n",
       "    </tr>\n",
       "    <tr>\n",
       "      <th>mean</th>\n",
       "      <td>37.722071</td>\n",
       "      <td>70719.346049</td>\n",
       "      <td>0.376022</td>\n",
       "    </tr>\n",
       "    <tr>\n",
       "      <th>std</th>\n",
       "      <td>10.681383</td>\n",
       "      <td>34772.173908</td>\n",
       "      <td>0.485047</td>\n",
       "    </tr>\n",
       "    <tr>\n",
       "      <th>min</th>\n",
       "      <td>18.000000</td>\n",
       "      <td>15000.000000</td>\n",
       "      <td>0.000000</td>\n",
       "    </tr>\n",
       "    <tr>\n",
       "      <th>25%</th>\n",
       "      <td>29.500000</td>\n",
       "      <td>43000.000000</td>\n",
       "      <td>0.000000</td>\n",
       "    </tr>\n",
       "    <tr>\n",
       "      <th>50%</th>\n",
       "      <td>37.000000</td>\n",
       "      <td>71000.000000</td>\n",
       "      <td>0.000000</td>\n",
       "    </tr>\n",
       "    <tr>\n",
       "      <th>75%</th>\n",
       "      <td>46.000000</td>\n",
       "      <td>89000.000000</td>\n",
       "      <td>1.000000</td>\n",
       "    </tr>\n",
       "    <tr>\n",
       "      <th>max</th>\n",
       "      <td>60.000000</td>\n",
       "      <td>150000.000000</td>\n",
       "      <td>1.000000</td>\n",
       "    </tr>\n",
       "  </tbody>\n",
       "</table>\n",
       "</div>"
      ],
      "text/plain": [
       "              Age  EstimatedSalary   Purchased\n",
       "count  367.000000       367.000000  367.000000\n",
       "mean    37.722071     70719.346049    0.376022\n",
       "std     10.681383     34772.173908    0.485047\n",
       "min     18.000000     15000.000000    0.000000\n",
       "25%     29.500000     43000.000000    0.000000\n",
       "50%     37.000000     71000.000000    0.000000\n",
       "75%     46.000000     89000.000000    1.000000\n",
       "max     60.000000    150000.000000    1.000000"
      ]
     },
     "execution_count": 10,
     "metadata": {},
     "output_type": "execute_result"
    }
   ],
   "source": [
    "df.describe()"
   ]
  },
  {
   "cell_type": "markdown",
   "metadata": {},
   "source": [
    "### Outlier"
   ]
  },
  {
   "cell_type": "code",
   "execution_count": 11,
   "metadata": {},
   "outputs": [
    {
     "name": "stdout",
     "output_type": "stream",
     "text": [
      "4.75\n",
      "70.75\n"
     ]
    }
   ],
   "source": [
    "# Age Column\n",
    "iqr = df['Age'].quantile(0.75) - df['Age'].quantile(0.25)\n",
    "upper_threshold = df['Age'].quantile(0.75) + (1.5 * iqr)\n",
    "lower_threshold = df['Age'].quantile(0.25) - (1.5 * iqr)\n",
    "print(lower_threshold)\n",
    "print(upper_threshold)"
   ]
  },
  {
   "cell_type": "code",
   "execution_count": 12,
   "metadata": {},
   "outputs": [
    {
     "name": "stdout",
     "output_type": "stream",
     "text": [
      "-26000.0\n",
      "158000.0\n"
     ]
    }
   ],
   "source": [
    "# EstimatedSalary Column\n",
    "iqr = df['EstimatedSalary'].quantile(0.75) - df['EstimatedSalary'].quantile(0.25)\n",
    "upper_threshold = df['EstimatedSalary'].quantile(0.75) + (1.5 * iqr)\n",
    "lower_threshold = df['EstimatedSalary'].quantile(0.25) - (1.5 * iqr)\n",
    "print(lower_threshold)\n",
    "print(upper_threshold)"
   ]
  },
  {
   "cell_type": "markdown",
   "metadata": {},
   "source": [
    "There is no outlier in two columns 'Age' and 'EstimatedSalary'."
   ]
  },
  {
   "cell_type": "markdown",
   "metadata": {},
   "source": [
    "### EDA"
   ]
  },
  {
   "cell_type": "code",
   "execution_count": 13,
   "metadata": {},
   "outputs": [
    {
     "data": {
      "text/html": [
       "<div>\n",
       "<style scoped>\n",
       "    .dataframe tbody tr th:only-of-type {\n",
       "        vertical-align: middle;\n",
       "    }\n",
       "\n",
       "    .dataframe tbody tr th {\n",
       "        vertical-align: top;\n",
       "    }\n",
       "\n",
       "    .dataframe thead th {\n",
       "        text-align: right;\n",
       "    }\n",
       "</style>\n",
       "<table border=\"1\" class=\"dataframe\">\n",
       "  <thead>\n",
       "    <tr style=\"text-align: right;\">\n",
       "      <th></th>\n",
       "      <th>Age</th>\n",
       "      <th>EstimatedSalary</th>\n",
       "      <th>Purchased</th>\n",
       "    </tr>\n",
       "  </thead>\n",
       "  <tbody>\n",
       "    <tr>\n",
       "      <th>Age</th>\n",
       "      <td>1.000000</td>\n",
       "      <td>0.167771</td>\n",
       "      <td>0.626164</td>\n",
       "    </tr>\n",
       "    <tr>\n",
       "      <th>EstimatedSalary</th>\n",
       "      <td>0.167771</td>\n",
       "      <td>1.000000</td>\n",
       "      <td>0.375624</td>\n",
       "    </tr>\n",
       "    <tr>\n",
       "      <th>Purchased</th>\n",
       "      <td>0.626164</td>\n",
       "      <td>0.375624</td>\n",
       "      <td>1.000000</td>\n",
       "    </tr>\n",
       "  </tbody>\n",
       "</table>\n",
       "</div>"
      ],
      "text/plain": [
       "                      Age  EstimatedSalary  Purchased\n",
       "Age              1.000000         0.167771   0.626164\n",
       "EstimatedSalary  0.167771         1.000000   0.375624\n",
       "Purchased        0.626164         0.375624   1.000000"
      ]
     },
     "execution_count": 13,
     "metadata": {},
     "output_type": "execute_result"
    }
   ],
   "source": [
    "df.corr()"
   ]
  },
  {
   "cell_type": "code",
   "execution_count": 14,
   "metadata": {},
   "outputs": [
    {
     "data": {
      "text/plain": [
       "Text(0, 0.5, 'EstimatedSalary')"
      ]
     },
     "execution_count": 14,
     "metadata": {},
     "output_type": "execute_result"
    },
    {
     "data": {
      "image/png": "[encoded data removed]",
      "text/plain": [
       "<Figure size 432x288 with 1 Axes>"
      ]
     },
     "metadata": {
      "needs_background": "light"
     },
     "output_type": "display_data"
    }
   ],
   "source": [
    "plt.scatter(df['Age'], df['EstimatedSalary'])\n",
    "plt.title('Age vs EstimateSalary')\n",
    "plt.xlabel('Age')\n",
    "plt.ylabel('EstimatedSalary')"
   ]
  },
  {
   "cell_type": "markdown",
   "metadata": {},
   "source": [
    "There is no Linear relationship between 'Age' and 'EstimatedSalary'. So, we have to use both the columns for the model."
   ]
  },
  {
   "cell_type": "code",
   "execution_count": 15,
   "metadata": {},
   "outputs": [
    {
     "name": "stderr",
     "output_type": "stream",
     "text": [
      "C:\\Users\\Praveen\\Anaconda3\\lib\\site-packages\\numpy\\core\\_asarray.py:83: VisibleDeprecationWarning: Creating an ndarray from ragged nested sequences (which is a list-or-tuple of lists-or-tuples-or ndarrays with different lengths or shapes) is deprecated. If you meant to do this, you must specify 'dtype=object' when creating the ndarray\n",
      "  return array(a, dtype, copy=False, order=order)\n"
     ]
    },
    {
     "data": {
      "text/plain": [
       "Text(0, 0.5, 'Age')"
      ]
     },
     "execution_count": 15,
     "metadata": {},
     "output_type": "execute_result"
    },
    {
     "data": {
      "image/png": "[encoded data removed]",
      "text/plain": [
       "<Figure size 432x288 with 1 Axes>"
      ]
     },
     "metadata": {
      "needs_background": "light"
     },
     "output_type": "display_data"
    }
   ],
   "source": [
    "df.boxplot(by='Purchased', column='Age', grid=False)\n",
    "plt.xlabel('Purchased')\n",
    "plt.ylabel('Age')"
   ]
  },
  {
   "cell_type": "markdown",
   "metadata": {},
   "source": [
    "The age group of people bought the SUV is in the approximate range of 27 to 60. And the age group of people didn't bought<br> the SUV is in the approximate range of 20 to 52."
   ]
  },
  {
   "cell_type": "code",
   "execution_count": 16,
   "metadata": {},
   "outputs": [
    {
     "data": {
      "text/plain": [
       "Text(0, 0.5, 'EstimatedSalary')"
      ]
     },
     "execution_count": 16,
     "metadata": {},
     "output_type": "execute_result"
    },
    {
     "data": {
      "image/png": "[encoded data removed]",
      "text/plain": [
       "<Figure size 432x288 with 1 Axes>"
      ]
     },
     "metadata": {
      "needs_background": "light"
     },
     "output_type": "display_data"
    }
   ],
   "source": [
    "df.boxplot(by='Purchased', column='EstimatedSalary', grid=False)\n",
    "plt.xlabel('Purchased')\n",
    "plt.ylabel('EstimatedSalary')"
   ]
  },
  {
   "cell_type": "markdown",
   "metadata": {},
   "source": [
    "By the analysis we can see that the SUV is bought more in the approximate range of 40000 to 120000. And not bought in the<br>\n",
    "range 42000 to 78000."
   ]
  },
  {
   "cell_type": "code",
   "execution_count": 17,
   "metadata": {
    "id": "8LWipIjDj7yn"
   },
   "outputs": [],
   "source": [
    "# Seperating as Features and Target\n",
    "X = df.iloc[:, :-1].values\n",
    "y = df.iloc[:, -1].values"
   ]
  },
  {
   "cell_type": "markdown",
   "metadata": {
    "id": "eHCKYPHylT5K"
   },
   "source": [
    "**Splitting the dataset into the Training set and Test set**"
   ]
  },
  {
   "cell_type": "code",
   "execution_count": 18,
   "metadata": {
    "id": "o9msgi0sj72h"
   },
   "outputs": [],
   "source": [
    "from sklearn.model_selection import train_test_split\n",
    "X_train, X_test, y_train, y_test = train_test_split(X, y, test_size = 0.25)"
   ]
  },
  {
   "cell_type": "code",
   "execution_count": 19,
   "metadata": {},
   "outputs": [
    {
     "name": "stdout",
     "output_type": "stream",
     "text": [
      "[[    37  70000]\n",
      " [    28  84000]\n",
      " [    35  91000]\n",
      " [    45  22000]\n",
      " [    44  39000]\n",
      " [    28  59000]\n",
      " [    37  71000]\n",
      " [    30  79000]\n",
      " [    32 117000]\n",
      " [    47  49000]\n",
      " [    32 120000]\n",
      " [    24  55000]\n",
      " [    36  52000]\n",
      " [    21  16000]\n",
      " [    35  75000]\n",
      " [    47  23000]\n",
      " [    39 134000]\n",
      " [    23  28000]\n",
      " [    57 122000]\n",
      " [    37  53000]\n",
      " [    26  17000]\n",
      " [    35  88000]\n",
      " [    39  59000]\n",
      " [    46  82000]\n",
      " [    36  33000]\n",
      " [    37 146000]\n",
      " [    32 135000]\n",
      " [    20  74000]\n",
      " [    35  58000]\n",
      " [    43 133000]\n",
      " [    18  44000]\n",
      " [    31  89000]\n",
      " [    58  38000]\n",
      " [    48  96000]\n",
      " [    56  60000]\n",
      " [    41  80000]\n",
      " [    39 106000]\n",
      " [    27  20000]\n",
      " [    25  33000]\n",
      " [    49  28000]\n",
      " [    24  27000]\n",
      " [    26  30000]\n",
      " [    46  28000]\n",
      " [    48  33000]\n",
      " [    31  74000]\n",
      " [    28  79000]\n",
      " [    59 143000]\n",
      " [    19  19000]\n",
      " [    49  89000]\n",
      " [    60 108000]\n",
      " [    27  84000]\n",
      " [    57  26000]\n",
      " [    35  65000]\n",
      " [    50  20000]\n",
      " [    47 107000]\n",
      " [    38  55000]\n",
      " [    48  30000]\n",
      " [    46  79000]\n",
      " [    41  60000]\n",
      " [    45 131000]\n",
      " [    26  86000]\n",
      " [    52 138000]\n",
      " [    37  62000]\n",
      " [    32  86000]\n",
      " [    45  45000]\n",
      " [    48  90000]\n",
      " [    21  68000]\n",
      " [    37  75000]\n",
      " [    24  19000]\n",
      " [    33  69000]\n",
      " [    40  75000]\n",
      " [    47  50000]\n",
      " [    51  23000]\n",
      " [    40  61000]\n",
      " [    60  83000]\n",
      " [    19  25000]\n",
      " [    47  43000]\n",
      " [    42  80000]\n",
      " [    54 104000]\n",
      " [    28  89000]\n",
      " [    59  83000]\n",
      " [    22  63000]\n",
      " [    18  68000]\n",
      " [    33 149000]\n",
      " [    48  41000]\n",
      " [    24  84000]\n",
      " [    26  84000]\n",
      " [    28  55000]\n",
      " [    40  71000]\n",
      " [    28 123000]\n",
      " [    41  63000]\n",
      " [    32 100000]\n",
      " [    40  78000]\n",
      " [    34 112000]\n",
      " [    35  20000]\n",
      " [    39  73000]\n",
      " [    48  29000]\n",
      " [    59  88000]\n",
      " [    45  32000]\n",
      " [    31  58000]\n",
      " [    34  72000]\n",
      " [    24  32000]\n",
      " [    35  59000]\n",
      " [    29  61000]\n",
      " [    29  47000]\n",
      " [    37  93000]\n",
      " [    36  63000]\n",
      " [    27 137000]\n",
      " [    37 144000]\n",
      " [    35  60000]\n",
      " [    30 107000]\n",
      " [    35  61000]\n",
      " [    20  49000]\n",
      " [    30  80000]\n",
      " [    30  17000]\n",
      " [    42  65000]\n",
      " [    46  96000]\n",
      " [    54 108000]\n",
      " [    30  62000]\n",
      " [    37  79000]\n",
      " [    24  89000]\n",
      " [    35  44000]\n",
      " [    29  28000]\n",
      " [    27  89000]\n",
      " [    39  42000]\n",
      " [    41  30000]\n",
      " [    41  45000]\n",
      " [    31 118000]\n",
      " [    34  25000]\n",
      " [    27  58000]\n",
      " [    60  34000]\n",
      " [    20  86000]\n",
      " [    46  32000]\n",
      " [    36 144000]\n",
      " [    28  37000]\n",
      " [    36  99000]\n",
      " [    35  79000]\n",
      " [    60  46000]\n",
      " [    38  51000]\n",
      " [    40  60000]\n",
      " [    31  68000]\n",
      " [    40 142000]\n",
      " [    40  72000]\n",
      " [    31  71000]\n",
      " [    30 116000]\n",
      " [    28  87000]\n",
      " [    37  57000]\n",
      " [    53  82000]\n",
      " [    48  74000]\n",
      " [    33  41000]\n",
      " [    23  20000]\n",
      " [    38  59000]\n",
      " [    43 112000]\n",
      " [    46 117000]\n",
      " [    52  21000]\n",
      " [    35  77000]\n",
      " [    23  63000]\n",
      " [    59  29000]\n",
      " [    39  61000]\n",
      " [    60 102000]\n",
      " [    26  43000]\n",
      " [    45  26000]\n",
      " [    35  71000]\n",
      " [    35  72000]\n",
      " [    26  72000]\n",
      " [    34  43000]\n",
      " [    54  70000]\n",
      " [    20  36000]\n",
      " [    26 118000]\n",
      " [    40  57000]\n",
      " [    35  38000]\n",
      " [    39  71000]\n",
      " [    49  88000]\n",
      " [    31  34000]\n",
      " [    42  90000]\n",
      " [    38  80000]\n",
      " [    47 113000]\n",
      " [    35  53000]\n",
      " [    38  65000]\n",
      " [    52 150000]\n",
      " [    35  23000]\n",
      " [    39  79000]\n",
      " [    47 144000]\n",
      " [    51 134000]\n",
      " [    46  23000]\n",
      " [    47  30000]\n",
      " [    24  23000]\n",
      " [    28  44000]\n",
      " [    54  26000]\n",
      " [    21  72000]\n",
      " [    30 135000]\n",
      " [    53  34000]\n",
      " [    50  36000]\n",
      " [    57  33000]\n",
      " [    32  18000]\n",
      " [    26  81000]\n",
      " [    26  16000]\n",
      " [    50  88000]\n",
      " [    48 141000]\n",
      " [    53 143000]\n",
      " [    18  86000]\n",
      " [    38  71000]\n",
      " [    42 104000]\n",
      " [    42  64000]\n",
      " [    30  49000]\n",
      " [    37  77000]\n",
      " [    42  70000]\n",
      " [    35  22000]\n",
      " [    59  76000]\n",
      " [    31  66000]\n",
      " [    25  22000]\n",
      " [    53 104000]\n",
      " [    58  95000]\n",
      " [    19  70000]\n",
      " [    33  43000]\n",
      " [    22  18000]\n",
      " [    39  96000]\n",
      " [    56 104000]\n",
      " [    18  82000]\n",
      " [    27  57000]\n",
      " [    24  58000]\n",
      " [    39  77000]\n",
      " [    19  76000]\n",
      " [    27  96000]\n",
      " [    41  59000]\n",
      " [    29  43000]\n",
      " [    22  81000]\n",
      " [    41  72000]\n",
      " [    55 130000]\n",
      " [    35 147000]\n",
      " [    56 133000]\n",
      " [    23  82000]\n",
      " [    44 139000]\n",
      " [    20  82000]\n",
      " [    46  74000]\n",
      " [    28  32000]\n",
      " [    42  53000]\n",
      " [    38 113000]\n",
      " [    46  41000]\n",
      " [    49  74000]\n",
      " [    27  54000]\n",
      " [    37  72000]\n",
      " [    25  80000]\n",
      " [    40 107000]\n",
      " [    59  42000]\n",
      " [    35  39000]\n",
      " [    36 126000]\n",
      " [    33  60000]\n",
      " [    26  52000]\n",
      " [    48 138000]\n",
      " [    52  38000]\n",
      " [    46  59000]\n",
      " [    46  22000]\n",
      " [    25  79000]\n",
      " [    52 114000]\n",
      " [    26  15000]\n",
      " [    37  80000]\n",
      " [    58  23000]\n",
      " [    47 105000]\n",
      " [    26  32000]\n",
      " [    38  50000]\n",
      " [    38  61000]\n",
      " [    40  59000]\n",
      " [    39 122000]\n",
      " [    47  20000]\n",
      " [    29  83000]\n",
      " [    19  21000]\n",
      " [    35  50000]\n",
      " [    52  90000]\n",
      " [    58 101000]\n",
      " [    47  51000]\n",
      " [    25  87000]\n",
      " [    19  85000]\n",
      " [    35  55000]\n",
      " [    37  55000]]\n"
     ]
    }
   ],
   "source": [
    "print(X_train)"
   ]
  },
  {
   "cell_type": "code",
   "execution_count": 20,
   "metadata": {},
   "outputs": [
    {
     "name": "stdout",
     "output_type": "stream",
     "text": [
      "[1 0 1 1 0 0 0 0 0 1 1 0 0 0 0 1 1 0 1 0 0 0 0 0 0 1 1 0 0 0 0 0 1 1 1 0 1\n",
      " 0 0 1 0 0 1 1 0 0 1 0 1 1 0 1 0 1 1 0 1 1 0 1 0 1 0 0 1 1 0 0 0 0 0 1 1 0\n",
      " 1 0 0 1 1 0 0 0 0 1 1 0 0 0 1 1 0 1 0 1 0 0 1 1 1 0 0 0 0 0 0 1 0 1 1 0 1\n",
      " 0 0 0 0 0 0 1 0 1 0 0 0 0 0 0 0 1 0 0 1 0 1 1 0 1 0 1 0 0 0 1 0 0 0 0 0 1\n",
      " 1 0 0 0 1 1 1 0 0 1 0 1 0 1 0 0 0 0 1 0 0 0 0 0 1 0 1 0 1 0 0 1 0 0 1 0 1\n",
      " 1 0 0 1 0 1 1 1 1 0 0 0 1 0 1 0 0 1 0 0 0 0 0 1 0 0 1 1 0 0 0 1 1 0 0 0 0\n",
      " 0 1 0 0 0 0 1 1 1 0 1 0 0 0 0 1 1 0 0 0 0 1 0 0 1 0 0 1 1 0 0 0 0 0 0 1 1\n",
      " 0 0 0 0 1 1 0 0 0 1 1 1 0 0 0 0]\n"
     ]
    }
   ],
   "source": [
    "print(y_train)"
   ]
  },
  {
   "cell_type": "code",
   "execution_count": 21,
   "metadata": {},
   "outputs": [
    {
     "name": "stdout",
     "output_type": "stream",
     "text": [
      "[[    53  72000]\n",
      " [    35  47000]\n",
      " [    27  17000]\n",
      " [    42  80000]\n",
      " [    41  79000]\n",
      " [    23  66000]\n",
      " [    51 146000]\n",
      " [    27  88000]\n",
      " [    22  55000]\n",
      " [    50  44000]\n",
      " [    27  31000]\n",
      " [    42 108000]\n",
      " [    55  39000]\n",
      " [    36 125000]\n",
      " [    38 112000]\n",
      " [    37 137000]\n",
      " [    22  27000]\n",
      " [    55 125000]\n",
      " [    18  52000]\n",
      " [    41  71000]\n",
      " [    49  65000]\n",
      " [    48 131000]\n",
      " [    26  80000]\n",
      " [    49  36000]\n",
      " [    26  35000]\n",
      " [    31  76000]\n",
      " [    40  47000]\n",
      " [    35  57000]\n",
      " [    57  60000]\n",
      " [    59 130000]\n",
      " [    37  74000]\n",
      " [    27  90000]\n",
      " [    20  23000]\n",
      " [    42  79000]\n",
      " [    49  39000]\n",
      " [    60  42000]\n",
      " [    31  18000]\n",
      " [    25  90000]\n",
      " [    33 113000]\n",
      " [    35 108000]\n",
      " [    36 118000]\n",
      " [    57  74000]\n",
      " [    29  80000]\n",
      " [    42  54000]\n",
      " [    23  48000]\n",
      " [    41  52000]\n",
      " [    49  86000]\n",
      " [    35  97000]\n",
      " [    39  75000]\n",
      " [    36  75000]\n",
      " [    34 115000]\n",
      " [    37  78000]\n",
      " [    36  50000]\n",
      " [    35  73000]\n",
      " [    29 148000]\n",
      " [    29  75000]\n",
      " [    19  26000]\n",
      " [    37  52000]\n",
      " [    21  88000]\n",
      " [    41  87000]\n",
      " [    36  60000]\n",
      " [    36  54000]\n",
      " [    40  65000]\n",
      " [    48 134000]\n",
      " [    32 117000]\n",
      " [    45  79000]\n",
      " [    35  27000]\n",
      " [    48 119000]\n",
      " [    30  87000]\n",
      " [    28  85000]\n",
      " [    47  34000]\n",
      " [    46  88000]\n",
      " [    33  28000]\n",
      " [    42 149000]\n",
      " [    33  31000]\n",
      " [    42  73000]\n",
      " [    31  15000]\n",
      " [    58 144000]\n",
      " [    47  47000]\n",
      " [    42  75000]\n",
      " [    43 129000]\n",
      " [    33  51000]\n",
      " [    30  15000]\n",
      " [    58  47000]\n",
      " [    48  35000]\n",
      " [    35  25000]\n",
      " [    32 150000]\n",
      " [    47  25000]\n",
      " [    37  33000]\n",
      " [    41  51000]\n",
      " [    49 141000]\n",
      " [    30  89000]]\n"
     ]
    }
   ],
   "source": [
    "print(X_test)"
   ]
  },
  {
   "cell_type": "code",
   "execution_count": 22,
   "metadata": {},
   "outputs": [
    {
     "name": "stdout",
     "output_type": "stream",
     "text": [
      "[1 0 0 0 0 0 1 0 0 0 0 1 1 1 0 1 0 1 0 0 0 1 0 1 0 0 0 0 1 1 0 0 0 0 1 1 0\n",
      " 0 0 0 1 1 0 0 0 0 1 1 1 0 0 1 0 0 1 0 0 0 0 1 0 0 0 1 1 0 0 1 0 0 1 1 0 1\n",
      " 0 1 0 1 0 0 1 0 0 1 1 0 1 1 0 0 1 0]\n"
     ]
    }
   ],
   "source": [
    "print(y_test)"
   ]
  },
  {
   "cell_type": "markdown",
   "metadata": {
    "id": "AsfmGeH6lZ0O"
   },
   "source": [
    "**Feature Scaling**"
   ]
  },
  {
   "cell_type": "code",
   "execution_count": 23,
   "metadata": {
    "id": "Xfifr6tlj77A"
   },
   "outputs": [],
   "source": [
    "from sklearn.preprocessing import StandardScaler\n",
    "sc = StandardScaler()\n",
    "X_train = sc.fit_transform(X_train)\n",
    "X_test = sc.transform(X_test)"
   ]
  },
  {
   "cell_type": "markdown",
   "metadata": {
    "id": "UkiSpylklf7z"
   },
   "source": [
    "**Step 2 | Logistic Regression Model**"
   ]
  },
  {
   "cell_type": "markdown",
   "metadata": {
    "id": "rhZgd1t_mfYg"
   },
   "source": [
    "The library for this job which is going to be the linear model library and it is called linear because the logistic regression is a linear classifier which means that here since we're in two dimensions, our two categories of users are going to be separated by a straight line. Then import the logistic regression class. Next we will create a new object from this class which is going to be our classifier that we are going to fit on our training set."
   ]
  },
  {
   "cell_type": "markdown",
   "metadata": {
    "id": "oCUEcLBflmPn"
   },
   "source": [
    "**Fitting Logistic Regression to the Training set**"
   ]
  },
  {
   "cell_type": "code",
   "execution_count": 24,
   "metadata": {
    "id": "l8YSpSphj8FN"
   },
   "outputs": [
    {
     "data": {
      "text/plain": [
       "LogisticRegression()"
      ]
     },
     "execution_count": 24,
     "metadata": {},
     "output_type": "execute_result"
    }
   ],
   "source": [
    "from sklearn.linear_model import LogisticRegression\n",
    "classifier = LogisticRegression()\n",
    "classifier.fit(X_train, y_train)"
   ]
  },
  {
   "cell_type": "code",
   "execution_count": 25,
   "metadata": {},
   "outputs": [
    {
     "name": "stdout",
     "output_type": "stream",
     "text": [
      "[[-0.05394973  0.0067336 ]\n",
      " [-0.88330124  0.41823137]\n",
      " [-0.23825007  0.62398026]\n",
      " [ 0.6832516  -1.40411591]\n",
      " [ 0.59110144 -0.90444004]\n",
      " [-0.88330124 -0.31658608]\n",
      " [-0.05394973  0.0361263 ]\n",
      " [-0.6990009   0.27126788]\n",
      " [-0.51470057  1.38819041]\n",
      " [ 0.86755194 -0.61051306]\n",
      " [-0.51470057  1.47636851]\n",
      " [-1.25190191 -0.43415687]\n",
      " [-0.1460999  -0.52233497]\n",
      " [-1.52835241 -1.5804721 ]\n",
      " [-0.23825007  0.15369709]\n",
      " [ 0.86755194 -1.37472321]\n",
      " [ 0.1303506   1.88786628]\n",
      " [-1.34405207 -1.22775972]\n",
      " [ 1.78905361  1.5351539 ]\n",
      " [-0.05394973 -0.49294227]\n",
      " [-1.06760157 -1.5510794 ]\n",
      " [-0.23825007  0.53580217]\n",
      " [ 0.1303506  -0.31658608]\n",
      " [ 0.77540177  0.35944598]\n",
      " [-0.1460999  -1.08079623]\n",
      " [-0.05394973  2.24057866]\n",
      " [-0.51470057  1.91725898]\n",
      " [-1.62050258  0.12430439]\n",
      " [-0.23825007 -0.34597878]\n",
      " [ 0.49895127  1.85847358]\n",
      " [-1.80480291 -0.75747655]\n",
      " [-0.60685074  0.56519486]\n",
      " [ 1.88120378 -0.93383274]\n",
      " [ 0.9597021   0.77094375]\n",
      " [ 1.69690344 -0.28719338]\n",
      " [ 0.31465093  0.30066058]\n",
      " [ 0.1303506   1.06487073]\n",
      " [-0.97545141 -1.46290131]\n",
      " [-1.15975174 -1.08079623]\n",
      " [ 1.05185227 -1.22775972]\n",
      " [-1.25190191 -1.25715242]\n",
      " [-1.06760157 -1.16897432]\n",
      " [ 0.77540177 -1.22775972]\n",
      " [ 0.9597021  -1.08079623]\n",
      " [-0.60685074  0.12430439]\n",
      " [-0.88330124  0.27126788]\n",
      " [ 1.97335394  2.15240056]\n",
      " [-1.71265274 -1.492294  ]\n",
      " [ 1.05185227  0.56519486]\n",
      " [ 2.06550411  1.12365613]\n",
      " [-0.97545141  0.41823137]\n",
      " [ 1.78905361 -1.28654512]\n",
      " [-0.23825007 -0.14022989]\n",
      " [ 1.14400244 -1.46290131]\n",
      " [ 0.86755194  1.09426343]\n",
      " [ 0.03820043 -0.43415687]\n",
      " [ 0.9597021  -1.16897432]\n",
      " [ 0.77540177  0.27126788]\n",
      " [ 0.31465093 -0.28719338]\n",
      " [ 0.6832516   1.79968819]\n",
      " [-1.06760157  0.47701677]\n",
      " [ 1.32830277  2.00543707]\n",
      " [-0.05394973 -0.22840799]\n",
      " [-0.51470057  0.47701677]\n",
      " [ 0.6832516  -0.72808385]\n",
      " [ 0.9597021   0.59458756]\n",
      " [-1.52835241 -0.0520518 ]\n",
      " [-0.05394973  0.15369709]\n",
      " [-1.25190191 -1.492294  ]\n",
      " [-0.4225504  -0.0226591 ]\n",
      " [ 0.22250077  0.15369709]\n",
      " [ 0.86755194 -0.58112036]\n",
      " [ 1.23615261 -1.37472321]\n",
      " [ 0.22250077 -0.25780068]\n",
      " [ 2.06550411  0.38883868]\n",
      " [-1.71265274 -1.31593782]\n",
      " [ 0.86755194 -0.78686925]\n",
      " [ 0.4068011   0.30066058]\n",
      " [ 1.51260311  1.00608534]\n",
      " [-0.88330124  0.56519486]\n",
      " [ 1.97335394  0.38883868]\n",
      " [-1.43620224 -0.19901529]\n",
      " [-1.80480291 -0.0520518 ]\n",
      " [-0.4225504   2.32875675]\n",
      " [ 0.9597021  -0.84565465]\n",
      " [-1.25190191  0.41823137]\n",
      " [-1.06760157  0.41823137]\n",
      " [-0.88330124 -0.43415687]\n",
      " [ 0.22250077  0.0361263 ]\n",
      " [-0.88330124  1.5645466 ]\n",
      " [ 0.31465093 -0.19901529]\n",
      " [-0.51470057  0.88851454]\n",
      " [ 0.22250077  0.24187518]\n",
      " [-0.33040024  1.24122692]\n",
      " [-0.23825007 -1.46290131]\n",
      " [ 0.1303506   0.09491169]\n",
      " [ 0.9597021  -1.19836702]\n",
      " [ 1.97335394  0.53580217]\n",
      " [ 0.6832516  -1.11018893]\n",
      " [-0.60685074 -0.34597878]\n",
      " [-0.33040024  0.065519  ]\n",
      " [-1.25190191 -1.11018893]\n",
      " [-0.23825007 -0.31658608]\n",
      " [-0.79115107 -0.25780068]\n",
      " [-0.79115107 -0.66929846]\n",
      " [-0.05394973  0.68276566]\n",
      " [-0.1460999  -0.19901529]\n",
      " [-0.97545141  1.97604437]\n",
      " [-0.05394973  2.18179326]\n",
      " [-0.23825007 -0.28719338]\n",
      " [-0.6990009   1.09426343]\n",
      " [-0.23825007 -0.25780068]\n",
      " [-1.62050258 -0.61051306]\n",
      " [-0.6990009   0.30066058]\n",
      " [-0.6990009  -1.5510794 ]\n",
      " [ 0.4068011  -0.14022989]\n",
      " [ 0.77540177  0.77094375]\n",
      " [ 1.51260311  1.12365613]\n",
      " [-0.6990009  -0.22840799]\n",
      " [-0.05394973  0.27126788]\n",
      " [-1.25190191  0.56519486]\n",
      " [-0.23825007 -0.75747655]\n",
      " [-0.79115107 -1.22775972]\n",
      " [-0.97545141  0.56519486]\n",
      " [ 0.1303506  -0.81626195]\n",
      " [ 0.31465093 -1.16897432]\n",
      " [ 0.31465093 -0.72808385]\n",
      " [-0.60685074  1.41758311]\n",
      " [-0.33040024 -1.31593782]\n",
      " [-0.97545141 -0.34597878]\n",
      " [ 2.06550411 -1.05140353]\n",
      " [-1.62050258  0.47701677]\n",
      " [ 0.77540177 -1.11018893]\n",
      " [-0.1460999   2.18179326]\n",
      " [-0.88330124 -0.96322544]\n",
      " [-0.1460999   0.85912185]\n",
      " [-0.23825007  0.27126788]\n",
      " [ 2.06550411 -0.69869116]\n",
      " [ 0.03820043 -0.55172766]\n",
      " [ 0.22250077 -0.28719338]\n",
      " [-0.60685074 -0.0520518 ]\n",
      " [ 0.22250077  2.12300786]\n",
      " [ 0.22250077  0.065519  ]\n",
      " [-0.60685074  0.0361263 ]\n",
      " [-0.6990009   1.35879771]\n",
      " [-0.88330124  0.50640947]\n",
      " [-0.05394973 -0.37537148]\n",
      " [ 1.42045294  0.35944598]\n",
      " [ 0.9597021   0.12430439]\n",
      " [-0.4225504  -0.84565465]\n",
      " [-1.34405207 -1.46290131]\n",
      " [ 0.03820043 -0.31658608]\n",
      " [ 0.49895127  1.24122692]\n",
      " [ 0.77540177  1.38819041]\n",
      " [ 1.32830277 -1.43350861]\n",
      " [-0.23825007  0.21248249]\n",
      " [-1.34405207 -0.19901529]\n",
      " [ 1.97335394 -1.19836702]\n",
      " [ 0.1303506  -0.25780068]\n",
      " [ 2.06550411  0.94729994]\n",
      " [-1.06760157 -0.78686925]\n",
      " [ 0.6832516  -1.28654512]\n",
      " [-0.23825007  0.0361263 ]\n",
      " [-0.23825007  0.065519  ]\n",
      " [-1.06760157  0.065519  ]\n",
      " [-0.33040024 -0.78686925]\n",
      " [ 1.51260311  0.0067336 ]\n",
      " [-1.62050258 -0.99261814]\n",
      " [-1.06760157  1.41758311]\n",
      " [ 0.22250077 -0.37537148]\n",
      " [-0.23825007 -0.93383274]\n",
      " [ 0.1303506   0.0361263 ]\n",
      " [ 1.05185227  0.53580217]\n",
      " [-0.60685074 -1.05140353]\n",
      " [ 0.4068011   0.59458756]\n",
      " [ 0.03820043  0.30066058]\n",
      " [ 0.86755194  1.27061962]\n",
      " [-0.23825007 -0.49294227]\n",
      " [ 0.03820043 -0.14022989]\n",
      " [ 1.32830277  2.35814945]\n",
      " [-0.23825007 -1.37472321]\n",
      " [ 0.1303506   0.27126788]\n",
      " [ 0.86755194  2.18179326]\n",
      " [ 1.23615261  1.88786628]\n",
      " [ 0.77540177 -1.37472321]\n",
      " [ 0.86755194 -1.16897432]\n",
      " [-1.25190191 -1.37472321]\n",
      " [-0.88330124 -0.75747655]\n",
      " [ 1.51260311 -1.28654512]\n",
      " [-1.52835241  0.065519  ]\n",
      " [-0.6990009   1.91725898]\n",
      " [ 1.42045294 -1.05140353]\n",
      " [ 1.14400244 -0.99261814]\n",
      " [ 1.78905361 -1.08079623]\n",
      " [-0.51470057 -1.5216867 ]\n",
      " [-1.06760157  0.33005328]\n",
      " [-1.06760157 -1.5804721 ]\n",
      " [ 1.14400244  0.53580217]\n",
      " [ 0.9597021   2.09361517]\n",
      " [ 1.42045294  2.15240056]\n",
      " [-1.80480291  0.47701677]\n",
      " [ 0.03820043  0.0361263 ]\n",
      " [ 0.4068011   1.00608534]\n",
      " [ 0.4068011  -0.16962259]\n",
      " [-0.6990009  -0.61051306]\n",
      " [-0.05394973  0.21248249]\n",
      " [ 0.4068011   0.0067336 ]\n",
      " [-0.23825007 -1.40411591]\n",
      " [ 1.97335394  0.18308979]\n",
      " [-0.60685074 -0.11083719]\n",
      " [-1.15975174 -1.40411591]\n",
      " [ 1.42045294  1.00608534]\n",
      " [ 1.88120378  0.74155105]\n",
      " [-1.71265274  0.0067336 ]\n",
      " [-0.4225504  -0.78686925]\n",
      " [-1.43620224 -1.5216867 ]\n",
      " [ 0.1303506   0.77094375]\n",
      " [ 1.69690344  1.00608534]\n",
      " [-1.80480291  0.35944598]\n",
      " [-0.97545141 -0.37537148]\n",
      " [-1.25190191 -0.34597878]\n",
      " [ 0.1303506   0.21248249]\n",
      " [-1.71265274  0.18308979]\n",
      " [-0.97545141  0.77094375]\n",
      " [ 0.31465093 -0.31658608]\n",
      " [-0.79115107 -0.78686925]\n",
      " [-1.43620224  0.33005328]\n",
      " [ 0.31465093  0.065519  ]\n",
      " [ 1.60475327  1.77029549]\n",
      " [-0.23825007  2.26997136]\n",
      " [ 1.69690344  1.85847358]\n",
      " [-1.34405207  0.35944598]\n",
      " [ 0.59110144  2.03482977]\n",
      " [-1.62050258  0.35944598]\n",
      " [ 0.77540177  0.12430439]\n",
      " [-0.88330124 -1.11018893]\n",
      " [ 0.4068011  -0.49294227]\n",
      " [ 0.03820043  1.27061962]\n",
      " [ 0.77540177 -0.84565465]\n",
      " [ 1.05185227  0.12430439]\n",
      " [-0.97545141 -0.46354957]\n",
      " [-0.05394973  0.065519  ]\n",
      " [-1.15975174  0.30066058]\n",
      " [ 0.22250077  1.09426343]\n",
      " [ 1.97335394 -0.81626195]\n",
      " [-0.23825007 -0.90444004]\n",
      " [-0.1460999   1.65272469]\n",
      " [-0.4225504  -0.28719338]\n",
      " [-1.06760157 -0.52233497]\n",
      " [ 0.9597021   2.00543707]\n",
      " [ 1.32830277 -0.93383274]\n",
      " [ 0.77540177 -0.31658608]\n",
      " [ 0.77540177 -1.40411591]\n",
      " [-1.15975174  0.27126788]\n",
      " [ 1.32830277  1.30001232]\n",
      " [-1.06760157 -1.6098648 ]\n",
      " [-0.05394973  0.30066058]\n",
      " [ 1.88120378 -1.37472321]\n",
      " [ 0.86755194  1.03547803]\n",
      " [-1.06760157 -1.11018893]\n",
      " [ 0.03820043 -0.58112036]\n",
      " [ 0.03820043 -0.25780068]\n",
      " [ 0.22250077 -0.31658608]\n",
      " [ 0.1303506   1.5351539 ]\n",
      " [ 0.86755194 -1.46290131]\n",
      " [-0.79115107  0.38883868]\n",
      " [-1.71265274 -1.43350861]\n",
      " [-0.23825007 -0.58112036]\n",
      " [ 1.32830277  0.59458756]\n",
      " [ 1.88120378  0.91790724]\n",
      " [ 0.86755194 -0.55172766]\n",
      " [-1.15975174  0.50640947]\n",
      " [-1.71265274  0.44762407]\n",
      " [-0.23825007 -0.43415687]\n",
      " [-0.05394973 -0.43415687]]\n"
     ]
    }
   ],
   "source": [
    "print(X_train)"
   ]
  },
  {
   "cell_type": "code",
   "execution_count": 26,
   "metadata": {},
   "outputs": [
    {
     "name": "stdout",
     "output_type": "stream",
     "text": [
      "[[ 1.42045294  0.065519  ]\n",
      " [-0.23825007 -0.66929846]\n",
      " [-0.97545141 -1.5510794 ]\n",
      " [ 0.4068011   0.30066058]\n",
      " [ 0.31465093  0.27126788]\n",
      " [-1.34405207 -0.11083719]\n",
      " [ 1.23615261  2.24057866]\n",
      " [-0.97545141  0.53580217]\n",
      " [-1.43620224 -0.43415687]\n",
      " [ 1.14400244 -0.75747655]\n",
      " [-0.97545141 -1.13958163]\n",
      " [ 0.4068011   1.12365613]\n",
      " [ 1.60475327 -0.90444004]\n",
      " [-0.1460999   1.623332  ]\n",
      " [ 0.03820043  1.24122692]\n",
      " [-0.05394973  1.97604437]\n",
      " [-1.43620224 -1.25715242]\n",
      " [ 1.60475327  1.623332  ]\n",
      " [-1.80480291 -0.52233497]\n",
      " [ 0.31465093  0.0361263 ]\n",
      " [ 1.05185227 -0.14022989]\n",
      " [ 0.9597021   1.79968819]\n",
      " [-1.06760157  0.30066058]\n",
      " [ 1.05185227 -0.99261814]\n",
      " [-1.06760157 -1.02201083]\n",
      " [-0.60685074  0.18308979]\n",
      " [ 0.22250077 -0.66929846]\n",
      " [-0.23825007 -0.37537148]\n",
      " [ 1.78905361 -0.28719338]\n",
      " [ 1.97335394  1.77029549]\n",
      " [-0.05394973  0.12430439]\n",
      " [-0.97545141  0.59458756]\n",
      " [-1.62050258 -1.37472321]\n",
      " [ 0.4068011   0.27126788]\n",
      " [ 1.05185227 -0.90444004]\n",
      " [ 2.06550411 -0.81626195]\n",
      " [-0.60685074 -1.5216867 ]\n",
      " [-1.15975174  0.59458756]\n",
      " [-0.4225504   1.27061962]\n",
      " [-0.23825007  1.12365613]\n",
      " [-0.1460999   1.41758311]\n",
      " [ 1.78905361  0.12430439]\n",
      " [-0.79115107  0.30066058]\n",
      " [ 0.4068011  -0.46354957]\n",
      " [-1.34405207 -0.63990576]\n",
      " [ 0.31465093 -0.52233497]\n",
      " [ 1.05185227  0.47701677]\n",
      " [-0.23825007  0.80033645]\n",
      " [ 0.1303506   0.15369709]\n",
      " [-0.1460999   0.15369709]\n",
      " [-0.33040024  1.32940502]\n",
      " [-0.05394973  0.24187518]\n",
      " [-0.1460999  -0.58112036]\n",
      " [-0.23825007  0.09491169]\n",
      " [-0.79115107  2.29936405]\n",
      " [-0.79115107  0.15369709]\n",
      " [-1.71265274 -1.28654512]\n",
      " [-0.05394973 -0.52233497]\n",
      " [-1.52835241  0.53580217]\n",
      " [ 0.31465093  0.50640947]\n",
      " [-0.1460999  -0.28719338]\n",
      " [-0.1460999  -0.46354957]\n",
      " [ 0.22250077 -0.14022989]\n",
      " [ 0.9597021   1.88786628]\n",
      " [-0.51470057  1.38819041]\n",
      " [ 0.6832516   0.27126788]\n",
      " [-0.23825007 -1.25715242]\n",
      " [ 0.9597021   1.44697581]\n",
      " [-0.6990009   0.50640947]\n",
      " [-0.88330124  0.44762407]\n",
      " [ 0.86755194 -1.05140353]\n",
      " [ 0.77540177  0.53580217]\n",
      " [-0.4225504  -1.22775972]\n",
      " [ 0.4068011   2.32875675]\n",
      " [-0.4225504  -1.13958163]\n",
      " [ 0.4068011   0.09491169]\n",
      " [-0.60685074 -1.6098648 ]\n",
      " [ 1.88120378  2.18179326]\n",
      " [ 0.86755194 -0.66929846]\n",
      " [ 0.4068011   0.15369709]\n",
      " [ 0.49895127  1.74090279]\n",
      " [-0.4225504  -0.55172766]\n",
      " [-0.6990009  -1.6098648 ]\n",
      " [ 1.88120378 -0.66929846]\n",
      " [ 0.9597021  -1.02201083]\n",
      " [-0.23825007 -1.31593782]\n",
      " [-0.51470057  2.35814945]\n",
      " [ 0.86755194 -1.31593782]\n",
      " [-0.05394973 -1.08079623]\n",
      " [ 0.31465093 -0.55172766]\n",
      " [ 1.05185227  2.09361517]\n",
      " [-0.6990009   0.56519486]]\n"
     ]
    }
   ],
   "source": [
    "print(X_test)"
   ]
  },
  {
   "cell_type": "markdown",
   "metadata": {
    "id": "0DpkLwdRlvXX"
   },
   "source": [
    "**Step 3 | Prediction**"
   ]
  },
  {
   "cell_type": "code",
   "execution_count": 27,
   "metadata": {
    "id": "5X1PxviQlp0C"
   },
   "outputs": [
    {
     "name": "stdout",
     "output_type": "stream",
     "text": [
      "[0]\n"
     ]
    }
   ],
   "source": [
    "# Predicting a new result\n",
    "print(classifier.predict(sc.transform([[22, 75520]])))"
   ]
  },
  {
   "cell_type": "code",
   "execution_count": 28,
   "metadata": {},
   "outputs": [
    {
     "name": "stdout",
     "output_type": "stream",
     "text": [
      "[[1 1]\n",
      " [0 0]\n",
      " [0 0]\n",
      " [1 0]\n",
      " [1 0]\n",
      " [0 0]\n",
      " [1 1]\n",
      " [0 0]\n",
      " [0 0]\n",
      " [1 0]\n",
      " [0 0]\n",
      " [1 1]\n",
      " [1 1]\n",
      " [1 1]\n",
      " [1 0]\n",
      " [1 1]\n",
      " [0 0]\n",
      " [1 1]\n",
      " [0 0]\n",
      " [0 0]\n",
      " [1 0]\n",
      " [1 1]\n",
      " [0 0]\n",
      " [1 1]\n",
      " [0 0]\n",
      " [0 0]\n",
      " [0 0]\n",
      " [0 0]\n",
      " [1 1]\n",
      " [1 1]\n",
      " [0 0]\n",
      " [0 0]\n",
      " [0 0]\n",
      " [1 0]\n",
      " [1 1]\n",
      " [1 1]\n",
      " [0 0]\n",
      " [0 0]\n",
      " [0 0]\n",
      " [0 0]\n",
      " [1 1]\n",
      " [1 1]\n",
      " [0 0]\n",
      " [0 0]\n",
      " [0 0]\n",
      " [0 0]\n",
      " [1 1]\n",
      " [0 1]\n",
      " [0 1]\n",
      " [0 0]\n",
      " [0 0]\n",
      " [0 1]\n",
      " [0 0]\n",
      " [0 0]\n",
      " [0 1]\n",
      " [0 0]\n",
      " [0 0]\n",
      " [0 0]\n",
      " [0 0]\n",
      " [1 1]\n",
      " [0 0]\n",
      " [0 0]\n",
      " [0 0]\n",
      " [1 1]\n",
      " [0 1]\n",
      " [1 0]\n",
      " [0 0]\n",
      " [1 1]\n",
      " [0 0]\n",
      " [0 0]\n",
      " [0 1]\n",
      " [1 1]\n",
      " [0 0]\n",
      " [1 1]\n",
      " [0 0]\n",
      " [1 1]\n",
      " [0 0]\n",
      " [1 1]\n",
      " [1 0]\n",
      " [1 0]\n",
      " [1 1]\n",
      " [0 0]\n",
      " [0 0]\n",
      " [1 1]\n",
      " [1 1]\n",
      " [0 0]\n",
      " [1 1]\n",
      " [0 1]\n",
      " [0 0]\n",
      " [0 0]\n",
      " [1 1]\n",
      " [0 0]]\n"
     ]
    }
   ],
   "source": [
    "# Predicting test set results\n",
    "y_pred = classifier.predict(X_test)\n",
    "print(np.concatenate((y_pred.reshape(len(y_pred),1), y_test.reshape(len(y_test),1)),1))"
   ]
  },
  {
   "cell_type": "markdown",
   "metadata": {
    "id": "vdX1IU-Fl7Ak"
   },
   "source": [
    "**Step 4 | Evaluating The Predection**"
   ]
  },
  {
   "cell_type": "markdown",
   "metadata": {
    "id": "zPdZLTTQmqa9"
   },
   "source": [
    "We predicted the test results and now we will evaluate if our logistic regression model learned and understood correctly. So this confusion matrix is going to contain the correct predictions that our model made on the set as well as the incorrect predictions."
   ]
  },
  {
   "cell_type": "markdown",
   "metadata": {
    "id": "bxjKgSYvmBDn"
   },
   "source": [
    "**Making the Confusion Matrix**"
   ]
  },
  {
   "cell_type": "code",
   "execution_count": 29,
   "metadata": {
    "id": "2_afjfcjlp88"
   },
   "outputs": [
    {
     "name": "stdout",
     "output_type": "stream",
     "text": [
      "[[48  9]\n",
      " [ 7 28]]\n"
     ]
    }
   ],
   "source": [
    "from sklearn.metrics import confusion_matrix\n",
    "cm = confusion_matrix(y_test, y_pred)\n",
    "print(cm)"
   ]
  },
  {
   "cell_type": "markdown",
   "metadata": {
    "id": "DARs2T8GmG3v"
   },
   "source": [
    "**Visualization**"
   ]
  },
  {
   "cell_type": "code",
   "execution_count": 30,
   "metadata": {
    "id": "v_qMnhVilqBW"
   },
   "outputs": [
    {
     "data": {
      "text/plain": [
       "<matplotlib.axes._subplots.AxesSubplot at 0x26c77d05e48>"
      ]
     },
     "execution_count": 30,
     "metadata": {},
     "output_type": "execute_result"
    },
    {
     "data": {
      "image/png": "[encoded data removed]",
      "text/plain": [
       "<Figure size 432x288 with 1 Axes>"
      ]
     },
     "metadata": {
      "needs_background": "light"
     },
     "output_type": "display_data"
    }
   ],
   "source": [
    "plot_decision_regions(X_train, y_train, clf=classifier, legend=1)"
   ]
  },
  {
   "cell_type": "code",
   "execution_count": 31,
   "metadata": {
    "id": "QBiu7oxRlqGj"
   },
   "outputs": [
    {
     "data": {
      "text/plain": [
       "<matplotlib.axes._subplots.AxesSubplot at 0x26c77d7bb38>"
      ]
     },
     "execution_count": 31,
     "metadata": {},
     "output_type": "execute_result"
    },
    {
     "data": {
      "image/png": "[encoded data removed]",
      "text/plain": [
       "<Figure size 432x288 with 1 Axes>"
      ]
     },
     "metadata": {
      "needs_background": "light"
     },
     "output_type": "display_data"
    }
   ],
   "source": [
    "plot_decision_regions(X_test, y_test, clf=classifier, legend=1)"
   ]
  }
 ],
 "metadata": {
  "colab": {
   "name": "Logistic_Regression_Assignment12.ipynb",
   "provenance": []
  },
  "kernelspec": {
   "display_name": "Python 3",
   "language": "python",
   "name": "python3"
  },
  "language_info": {
   "codemirror_mode": {
    "name": "ipython",
    "version": 3
   },
   "file_extension": ".py",
   "mimetype": "text/x-python",
   "name": "python",
   "nbconvert_exporter": "python",
   "pygments_lexer": "ipython3",
   "version": "3.7.3"
  }
 },
 "nbformat": 4,
 "nbformat_minor": 1
}
